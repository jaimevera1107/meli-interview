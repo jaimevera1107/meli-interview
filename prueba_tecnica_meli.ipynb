{
 "cells": [
  {
   "cell_type": "markdown",
   "metadata": {},
   "source": [
    "# Introducción"
   ]
  },
  {
   "cell_type": "markdown",
   "metadata": {},
   "source": [
    "## Agrupar Productos Similares en un Marketplace"
   ]
  },
  {
   "cell_type": "markdown",
   "metadata": {},
   "source": [
    "En un marketplace, como el de Mercado Libre, a menudo nos encontramos con productos similares o idénticos ofrecidos por diferentes vendedores. Esto puede generar confusión en los usuarios al tener que comparar múltiples opciones. \n",
    "\n",
    "- El objetivo de este proyecto era desarrollar una solución que permitiera identificar y agrupar estos productos, mejorando así la experiencia del usuarios y hasta posiblemente impactando en la mejora de la gestión de inventarios.\n",
    "\n",
    "### Investigación y Recopilación de Datos\n",
    "\n",
    "Para abordar este desafío, el primer paso fue recopilar la mayor cantidad de información posible sobre los productos. USe usó la API de MELI para descargar los títulos e imágenes de los productos de cada categoría, teniendo en cuenta las limitaciones de la API en cuanto a la cantidad de datos que se podían obtener o extraer por solicitud.\n",
    "\n",
    "- Una de las hipótesis principales era que productos idénticos podían estar listados con distintas escrituras e imágenes, pero con una similaridad muy alta, pero no exactamente igual. Por lo tanto, era crucial obtener información de todas los productos (posibles), para poder identificar y unificarlos.\n",
    "\n",
    "- Dado que los nombres de los productos pueden variar semánticamente entre países, decidí enfocarme en un solo país para el desarrollo inicial de la solución. Sin embargo, la metodología desarrollada podría aplicarse fácilmente a otros países, simplemente cambiando el índice del país.\n",
    "\n",
    "- Por último, se identificó que algunos productos podían tener títulos e imágenes muy similares, pero precios totalmente distintos (como el caso de las antiguedades), por lo que integrar un enfoque que diferenciara los productos suficientemente era clave.\n",
    "\n",
    "### Insights Clave y Solución Propuesta\n",
    "\n",
    "El análisis exploratorio de los datos reveló varios insights importantes:\n",
    "\n",
    "1. **Variabilidad en los nombres de productos:** Los nombres de productos similares presentaban una gran variabilidad en su estructura, habiendo explorando esto especialmente en varios países, lo que dificultaba la identificación de coincidencias directas. Para solucionar esto, implementé una limpieza de texto para normalizar los nombres antes de la agrupación. Luego, utilicé TF-IDF y DBSCAN para detectar los clústeres y luego similitudes semánticas en los títulos.\n",
    "\n",
    "2. **Duplicidad de entidades en diferentes categorías:** Identifiqué que un mismo producto podía aparecer en múltiples categorías, lo que complicaba la organización de los datos. Para abordar esto, propuse un enfoque basado en embeddings semánticos (BERT) para evaluar similitudes entre productos y reubicar aquellos registros que estuvieran incorrectamente categorizados.\n",
    "\n",
    "3. **Diferencias en precios según la categoría:** Observé que los precios de productos similares podían variar significativamente entre categorías. Para evitar que esto afectara la agrupación, utilicé el coeficiente de variación (CV) para segmentar los precios en rangos bajo, medio y alto (si habia suficiente variabilidad), asegurando que los clusters finales representaran productos similares y con niveles de precio comparables.\n",
    "\n",
    "### Solución Implementada y Metodología\n",
    "\n",
    "La solución final se basó en la combinación de técnicas de procesamiento de texto, imágenes y datos cuantitativos:\n",
    "\n",
    "1. **Procesamiento de texto:**\n",
    "   - Limpieza y vectorización de datos con TF-IDF.\n",
    "   - Identificación de clusters con DBSCAN y Random Grid Search, optimizado por Silhouette Score.\n",
    "   - Comparación de registros dentro de cada clúster utilizando embeddings de BERT y un umbral de 0.985 para reajustes.\n",
    "\n",
    "2. **Procesamiento de imágenes:**\n",
    "   - Almacenamiento y vectorización de imágenes con CLIP.\n",
    "   - Cálculo de similitud coseno entre embeddings de imágenes.\n",
    "   - Reajuste de clusters si la similitud entre imágenes no superaba 0.90.\n",
    "\n",
    "3. **Procesamiento cuantitativo:**\n",
    "   - Segmentación de precios en rangos bajo, medio y alto utilizando el coeficiente de variación y percentiles.\n",
    "   - Integración de la clasificación de precios con los nombres de los clusters para generar un identificador único.\n",
    "\n",
    "<img src=\"https://iili.io/2Q0tRFS.png\" alt=\"Descripción de la imagen\" width=\"40%\" />\n",
    "\n",
    "### Métricas de Evaluación\n",
    "\n",
    "Para evaluar el rendimiento de la solución, se utilizaron las siguientes métricas:\n",
    "\n",
    "- Silhouette Score: Para optimizar la agrupación en DBSCAN.\n",
    "- Similitud Coseno: Para evaluar la coherencia de las asignaciones de texto e imagen.\n",
    "- Coeficiente de variación (CV): Para la segmentación cuantitativa de precios.\n",
    "\n",
    "### Resultados y Beneficios\n",
    "\n",
    "La solución implementada permite unificar entidades similares entre diferentes categorías, mejorando significativamente la precisión en la identificación de productos. Esto se traduce en una mejor experiencia de usuario al facilitar la búsqueda y comparación de productos, así como en una optimización en la gestión del inventario al unificar referencias duplicadas.\n",
    "\n",
    "El modelo basado en DBSCAN con Random Grid Search optimizado mostró un Silhouette Score alto en todas las etapas. Además, la combinación de similitud de texto (BERT), análisis de imágenes (CLIP) y procesamiento cuantitativo permitió capturar aspectos diferenciadores de un producto como el título, la imagen y el precio.\n",
    "\n",
    "### Conclusiones y Próximos Pasos\n",
    "\n",
    "En resumen, la solución desarrollada aborda de manera efectiva el desafío de agrupar productos similares en un marketplace, combinando diversas técnicas de procesamiento de datos y机器学习. Los resultados obtenidos demuestran el potencial de esta solución para mejorar la experiencia del usuario y optimizar la gestión del inventario.\n",
    "\n",
    "Como próximos pasos, me gustaría:\n",
    "\n",
    "- Refinar el modelo con datos adicionales, como especificaciones técnicas y métricas de confianza.\n",
    "- Optimizar el rendimiento en grandes volúmenes de datos mediante indexación y bases de datos vectoriales.\n",
    "- Validar el impacto de la solución en usuarios y negocio, analizando la reducción de productos duplicados en el inventario."
   ]
  },
  {
   "cell_type": "markdown",
   "metadata": {},
   "source": [
    "# 1. Librerías"
   ]
  },
  {
   "cell_type": "code",
   "execution_count": 1,
   "metadata": {},
   "outputs": [],
   "source": [
    "# ============================================================================\n",
    "# Importaciones de la biblioteca estándar (Standard Library)\n",
    "# ============================================================================\n",
    "import re       # Para el uso de expresiones regulares\n",
    "import time     # Para funciones relacionadas con tiempos y pausas\n",
    "import os       # Para manipulación de rutas y archivos del sistema operativo\n",
    "import pickle   # Para serializar y deserializar objetos en Python\n",
    "from datetime import datetime # Para manejar fechas\n",
    "\n",
    "# ============================================================================\n",
    "# Importaciones de librerías de terceros (Third-party libraries)\n",
    "# ============================================================================\n",
    "import requests  # Para realizar solicitudes HTTP\n",
    "import numpy as np  # Para manejo de arreglos y cálculos numéricos\n",
    "import pandas as pd  # Para análisis y manipulación de datos tabulares\n",
    "from tqdm import tqdm  # Para mostrar barras de progreso en iteraciones\n",
    "\n",
    "# Visualización\n",
    "import seaborn as sns            # Para gráficas estadísticas con estilo\n",
    "import matplotlib.pyplot as plt  # Backend de visualización subyacente a Seaborn\n",
    "\n",
    "# ============================================================================\n",
    "# Scikit-learn y otras librerías de IA/ML\n",
    "# ============================================================================\n",
    "from sklearn.feature_extraction.text import TfidfVectorizer  # Transforma texto a vectores TF-IDF\n",
    "from sklearn.metrics.pairwise import cosine_similarity       # Calcula similitud de coseno entre vectores\n",
    "from sklearn.cluster import DBSCAN                           # Clustering basado en densidad (DBSCAN)\n",
    "from sklearn.metrics import silhouette_score                 # Métrica Silhouette para evaluar clusters\n",
    "\n",
    "# ============================================================================\n",
    "# Sentence Transformers\n",
    "# ============================================================================\n",
    "from sentence_transformers import SentenceTransformer  # Genera embeddings semánticos de texto\n",
    "\n",
    "# ============================================================================\n",
    "# Librerías para obtener tasas de cambio y procesamiento de lenguaje natural\n",
    "# ============================================================================\n",
    "import yfinance as yf  # Para consultar datos financieros (incluyendo tasas de cambio)\n",
    "import nltk            # Para funcionalidades de Procesamiento de Lenguaje Natural (NLP)\n",
    "from nltk.corpus import stopwords  # Conjunto de palabras vacías (stopwords) en varios idiomas\n",
    "from nltk.stem.snowball import SpanishStemmer  # Algoritmo de stemming para español\n",
    "\n",
    "# ============================================================================\n",
    "# Manejo de imágenes\n",
    "# ============================================================================\n",
    "from PIL import Image  # Para abrir y manipular imágenes en diferentes formatos"
   ]
  },
  {
   "cell_type": "markdown",
   "metadata": {},
   "source": [
    "# 2. Parámetros y objetos"
   ]
  },
  {
   "cell_type": "code",
   "execution_count": 2,
   "metadata": {},
   "outputs": [],
   "source": [
    "# Lista de países con información más descriptiva de su moneda por defecto y su ID de Mercado Libre.\n",
    "### Contiene:\n",
    "# 1. Código de Mercado Libre para El Salvador\n",
    "# 2. Nombre del país\n",
    "# 3. Moneda del país\n",
    "\n",
    "lista_paises_ml = [\n",
    "    {\n",
    "        \"mercado_libre_id\": \"MSV\",     \n",
    "        \"country_name\": \"El Salvador\", \n",
    "        \"default_currency\": \"USD\"      # Moneda predeterminada: Dólar estadounidense\n",
    "    },\n",
    "    {\n",
    "        \"mercado_libre_id\": \"MLA\",  \n",
    "        \"country_name\": \"Argentina\", \n",
    "        \"default_currency\": \"ARS\"      # Moneda predeterminada: Peso argentino\n",
    "    },\n",
    "    {\n",
    "        \"mercado_libre_id\": \"MBO\",     \n",
    "        \"country_name\": \"Bolivia\", \n",
    "        \"default_currency\": \"BOB\"      # Moneda predeterminada: Boliviano\n",
    "    },\n",
    "    {\n",
    "        \"mercado_libre_id\": \"MPY\",     \n",
    "        \"country_name\": \"Paraguay\", \n",
    "        \"default_currency\": \"PYG\"      # Moneda predeterminada: Guaraní\n",
    "    },\n",
    "    {\n",
    "        \"mercado_libre_id\": \"MCR\",     \n",
    "        \"country_name\": \"Costa Rica\",\n",
    "        \"default_currency\": \"CRC\"      # Moneda predeterminada: Colón costarricense\n",
    "    },\n",
    "    {\n",
    "        \"mercado_libre_id\": \"MHN\",     \n",
    "        \"country_name\": \"Honduras\",\n",
    "        \"default_currency\": \"HNL\"      # Moneda predeterminada: Lempira\n",
    "    },\n",
    "    {\n",
    "        \"mercado_libre_id\": \"MLV\",     \n",
    "        \"country_name\": \"Venezuela\",\n",
    "        \"default_currency\": \"VES\"      # Moneda predeterminada: Bolívar venezolano\n",
    "    },\n",
    "    {\n",
    "        \"mercado_libre_id\": \"MNI\",     \n",
    "        \"country_name\": \"Nicaragua\",\n",
    "        \"default_currency\": \"NIO\"      # Moneda predeterminada: Córdoba\n",
    "    },\n",
    "    {\n",
    "        \"mercado_libre_id\": \"MLB\",     \n",
    "        \"country_name\": \"Brasil\",\n",
    "        \"default_currency\": \"BRL\"      # Moneda predeterminada: Real brasileño\n",
    "    },\n",
    "    {\n",
    "        \"mercado_libre_id\": \"MPE\",     \n",
    "        \"country_name\": \"Perú\",\n",
    "        \"default_currency\": \"PEN\"      # Moneda predeterminada: Sol\n",
    "    },\n",
    "    {\n",
    "        \"mercado_libre_id\": \"MRD\",     \n",
    "        \"country_name\": \"Dominicana\",\n",
    "        \"default_currency\": \"DOP\"      # Moneda predeterminada: Peso dominicano\n",
    "    },\n",
    "    {\n",
    "        \"mercado_libre_id\": \"MPA\",     \n",
    "        \"country_name\": \"Panamá\",\n",
    "        \"default_currency\": \"PAB\"      # Moneda predeterminada: Balboa\n",
    "    },\n",
    "    {\n",
    "        \"mercado_libre_id\": \"MCU\",     \n",
    "        \"country_name\": \"Cuba\",\n",
    "        \"default_currency\": \"CUP\"      # Moneda predeterminada: Peso cubano\n",
    "    },\n",
    "    {\n",
    "        \"mercado_libre_id\": \"MLC\",     \n",
    "        \"country_name\": \"Chile\",\n",
    "        \"default_currency\": \"CLP\"      # Moneda predeterminada: Peso chileno\n",
    "    },\n",
    "    {\n",
    "        \"mercado_libre_id\": \"MGT\",     \n",
    "        \"country_name\": \"Guatemala\",\n",
    "        \"default_currency\": \"GTQ\"      # Moneda predeterminada: Quetzal\n",
    "    },\n",
    "    {\n",
    "        \"mercado_libre_id\": \"MEC\",     \n",
    "        \"country_name\": \"Ecuador\",\n",
    "        \"default_currency\": \"USD\"      # Moneda predeterminada: Dólar estadounidense\n",
    "    },\n",
    "    {\n",
    "        \"mercado_libre_id\": \"MLU\",     \n",
    "        \"country_name\": \"Uruguay\",\n",
    "        \"default_currency\": \"UYU\"      # Moneda predeterminada: Peso uruguayo\n",
    "    },\n",
    "    {\n",
    "        \"mercado_libre_id\": \"MCO\",     \n",
    "        \"country_name\": \"Colombia\",\n",
    "        \"default_currency\": \"COP\"      # Moneda predeterminada: Peso colombiano\n",
    "    },\n",
    "    {\n",
    "        \"mercado_libre_id\": \"MLM\",     \n",
    "        \"country_name\": \"Mexico\",\n",
    "        \"default_currency\": \"MXN\"      # Moneda predeterminada: Peso mexicano\n",
    "    }\n",
    "]\n"
   ]
  },
  {
   "cell_type": "code",
   "execution_count": 3,
   "metadata": {},
   "outputs": [],
   "source": [
    "stopwords_es = set(stopwords.words('spanish'))\n",
    "stopwords_en = set(stopwords.words('english'))\n",
    "stopwords_totales = stopwords_es.union(stopwords_en)"
   ]
  },
  {
   "cell_type": "markdown",
   "metadata": {},
   "source": [
    "# 3. Importación"
   ]
  },
  {
   "cell_type": "code",
   "execution_count": 4,
   "metadata": {},
   "outputs": [],
   "source": [
    "def obtener_respuesta_api(url: str, max_intentos: int = 3) -> dict:\n",
    "    \"\"\"\n",
    "    Realiza una solicitud GET a la API con un mecanismo de reintentos y retorna la respuesta en formato JSON.\n",
    "    \"\"\"\n",
    "    session = requests.Session()\n",
    "    intentos = 0\n",
    "\n",
    "    while intentos < max_intentos:\n",
    "        try:\n",
    "            response = session.get(url)\n",
    "            if response.status_code == 200:\n",
    "                return response.json()\n",
    "            elif response.status_code == 403:\n",
    "                # Bloqueos temporales, por ejemplo, rate limit\n",
    "                time.sleep(10 * (intentos + 1))\n",
    "                intentos += 1\n",
    "            else:\n",
    "                print(f\"Error {response.status_code} al consultar API: {url}\")\n",
    "                break\n",
    "        except requests.RequestException as e:\n",
    "            print(f\"Excepción al hacer la solicitud: {e}\")\n",
    "            time.sleep(5 * (intentos + 1))\n",
    "            intentos += 1\n",
    "\n",
    "    return None\n",
    "\n",
    "def consultar_categorias_pais(codigo_pais: str, max_intentos: int = 2) -> list:\n",
    "    \"\"\"\n",
    "    Consulta las categorías de un país en la API de Mercado Libre y las retorna como una lista de categorías.\n",
    "    \"\"\"\n",
    "    categorias_url = f\"https://api.mercadolibre.com/sites/{codigo_pais}/categories\"\n",
    "    categorias_list = obtener_respuesta_api(categorias_url, max_intentos=max_intentos)\n",
    "\n",
    "    if not categorias_list:\n",
    "        return []\n",
    "\n",
    "    return categorias_list\n",
    "\n",
    "def procesar_productos(\n",
    "    data: list,\n",
    "    codigo_categoria: str,\n",
    "    nombre_categoria: str,\n",
    "    codigo_moneda: str\n",
    ") -> list:\n",
    "    \"\"\"\n",
    "    Agrega metadatos (categoría y moneda) a cada producto obtenido.\n",
    "    \"\"\"\n",
    "    productos_procesados = []\n",
    "    for item in data:\n",
    "        item[\"category_id\"] = codigo_categoria\n",
    "        item[\"category_name\"] = nombre_categoria\n",
    "        item[\"currency_code\"] = codigo_moneda\n",
    "        productos_procesados.append(item)\n",
    "\n",
    "    return productos_procesados\n",
    "\n",
    "def consultar_productos(\n",
    "    codigo_pais: str,\n",
    "    codigo_categoria: str,\n",
    "    nombre_categoria: str,\n",
    "    codigo_moneda: str,\n",
    "    limite_consulta: int = 100000,\n",
    "    offset: int = 10,\n",
    "    max_intentos: int = 2\n",
    ") -> pd.DataFrame:\n",
    "    \"\"\"\n",
    "    Consulta los productos de una categoría en la API de Mercado Libre y los retorna en un DataFrame.\n",
    "    \"\"\"\n",
    "    url_base = f\"https://api.mercadolibre.com/sites/{codigo_pais}/search\"\n",
    "    todos_los_items = []\n",
    "\n",
    "    for numero_offset in range(0, limite_consulta, offset):\n",
    "        url = f\"{url_base}?category={codigo_categoria}&offset={numero_offset}\"\n",
    "\n",
    "        data = obtener_respuesta_api(url, max_intentos=max_intentos)\n",
    "        if not data or not data.get(\"results\"):\n",
    "            break\n",
    "\n",
    "        productos = procesar_productos(\n",
    "            data[\"results\"],\n",
    "            codigo_categoria,\n",
    "            nombre_categoria,\n",
    "            codigo_moneda\n",
    "        )\n",
    "        todos_los_items.extend(productos)\n",
    "\n",
    "        total_en_api = data.get(\"paging\", {}).get(\"total\", 0)\n",
    "        if numero_offset + offset >= total_en_api:\n",
    "            break\n",
    "\n",
    "    return pd.DataFrame(todos_los_items)\n",
    "\n",
    "def extraer_productos_por_pais_y_categoria(pais_metadata: dict) -> pd.DataFrame:\n",
    "    \"\"\"\n",
    "    Extrae los productos para un país según sus categorías y retorna\n",
    "    la información en un DataFrame consolidado.\n",
    "    \"\"\"\n",
    "    pais_codigo = pais_metadata[\"mercado_libre_id\"]\n",
    "    moneda_codigo = pais_metadata[\"default_currency\"]\n",
    "    pais_nombre = pais_metadata[\"country_name\"]\n",
    "\n",
    "    categorias_lista = consultar_categorias_pais(codigo_pais=pais_codigo, max_intentos=2)\n",
    "\n",
    "    resultados_por_categoria = []\n",
    "    for categoria in tqdm(\n",
    "        categorias_lista,\n",
    "        desc=f\"Obteniendo productos por categoría para {pais_nombre}\",\n",
    "        unit=\"Categoría\",\n",
    "        leave=True,\n",
    "        dynamic_ncols=True\n",
    "    ):\n",
    "        categoria_codigo = categoria[\"id\"]\n",
    "        categoria_nombre = categoria[\"name\"]\n",
    "\n",
    "        try:\n",
    "            productos_df = consultar_productos(\n",
    "                codigo_pais=pais_codigo,\n",
    "                codigo_categoria=categoria_codigo,\n",
    "                nombre_categoria=categoria_nombre,\n",
    "                codigo_moneda=moneda_codigo,\n",
    "                limite_consulta=100000,\n",
    "                offset=10,\n",
    "                max_intentos=2\n",
    "            )\n",
    "            resultados_por_categoria.append(productos_df)\n",
    "        except Exception as e:\n",
    "            print(f\"Error al procesar la categoría {categoria_nombre}: {e}\")\n",
    "            continue\n",
    "\n",
    "    if resultados_por_categoria:\n",
    "        return pd.concat(resultados_por_categoria, ignore_index=True)\n",
    "    else:\n",
    "        return pd.DataFrame()  # Retorna un DataFrame vacío si no hay resultados\n",
    "\n",
    "def guardar_datos(pais_metadata: dict, df: pd.DataFrame):\n",
    "    \"\"\"\n",
    "    Guarda el DataFrame en un archivo CSV en el directorio especificado.\n",
    "    \"\"\"\n",
    "    mercado_libre_id = pais_metadata[\"mercado_libre_id\"]\n",
    "    fecha_hoy = datetime.now().strftime(\"%Y-%m-%d\")\n",
    "    nombre_archivo = f\"products_data_{fecha_hoy}.csv\"\n",
    "    directorio_pais = os.path.join(\"countries_data\", \"products\", mercado_libre_id)\n",
    "    \n",
    "    # Crear el directorio si no existe\n",
    "    os.makedirs(directorio_pais, exist_ok=True)\n",
    "    \n",
    "    ruta_archivo = os.path.join(directorio_pais, nombre_archivo)\n",
    "    \n",
    "    if os.path.exists(ruta_archivo):\n",
    "        print(f\"El archivo {ruta_archivo} ya existe. No se realizará la extracción.\")\n",
    "    else:\n",
    "        if not df.empty:\n",
    "            df.to_csv(ruta_archivo, index=False)\n",
    "            print(f\"Datos guardados exitosamente en {ruta_archivo}\")\n",
    "        else:\n",
    "            print(f\"No hay datos para guardar para el país {mercado_libre_id} en la fecha {fecha_hoy}.\")\n",
    "\n",
    "def cargar_datos_existentes(pais_metadata: dict) -> pd.DataFrame:\n",
    "    \"\"\"\n",
    "    Carga el archivo CSV existente para el país y la fecha actual.\n",
    "    \"\"\"\n",
    "    mercado_libre_id = pais_metadata[\"mercado_libre_id\"]\n",
    "    fecha_hoy = datetime.now().strftime(\"%Y-%m-%d\")\n",
    "    nombre_archivo = f\"products_data_{fecha_hoy}.csv\"\n",
    "    directorio_pais = os.path.join(\"countries_data\", \"products\", mercado_libre_id)\n",
    "    ruta_archivo = os.path.join(directorio_pais, nombre_archivo)\n",
    "    \n",
    "    if os.path.exists(ruta_archivo):\n",
    "        print(f\"Cargando datos existentes desde {ruta_archivo}\")\n",
    "        return pd.read_csv(ruta_archivo)\n",
    "    else:\n",
    "        print(f\"No existe el archivo {ruta_archivo}. Será necesario extraer los datos.\")\n",
    "        return pd.DataFrame()  # Retorna un DataFrame vacío si no existe el archivo\n",
    "\n",
    "def extraccion_guardado_pais(pais_metadata: dict):\n",
    "    \"\"\"\n",
    "    Función principal que coordina la extracción y el guardado de datos para una lista de países.\n",
    "    \n",
    "    Args:\n",
    "        paises_metadata (list): Lista de diccionarios con metadata de cada país.\n",
    "    \"\"\"\n",
    "\n",
    "    mercado_libre_id = pais_metadata[\"mercado_libre_id\"]\n",
    "    if not mercado_libre_id:\n",
    "        print(\"No se encontró 'mercado_libre_id' en la metadata del país. Saltando...\")\n",
    "        \n",
    "    # Definir la ruta del archivo para verificar existencia\n",
    "    fecha_hoy = datetime.now().strftime(\"%Y-%m-%d\")\n",
    "    nombre_archivo = f\"products_data_{fecha_hoy}.csv\"\n",
    "    directorio_pais = os.path.join(\"countries_data\", \"products\", mercado_libre_id)\n",
    "    ruta_archivo = os.path.join(directorio_pais, nombre_archivo)\n",
    "    \n",
    "    if os.path.exists(ruta_archivo):\n",
    "        print(f\"El archivo para {mercado_libre_id} en la fecha {fecha_hoy} ya existe. Cargando el archivo existente.\")\n",
    "        df = pd.read_csv(ruta_archivo)\n",
    "\n",
    "        return df\n",
    "    else:\n",
    "        print(f\"Extrayendo datos para el país: {mercado_libre_id}\")\n",
    "        df = extraer_productos_por_pais_y_categoria(pais_metadata)\n",
    "        guardar_datos(pais_metadata, df)\n",
    "\n",
    "        return df    "
   ]
  },
  {
   "cell_type": "code",
   "execution_count": 5,
   "metadata": {},
   "outputs": [
    {
     "name": "stdout",
     "output_type": "stream",
     "text": [
      "Metadata de un país específico:\n"
     ]
    },
    {
     "data": {
      "text/plain": [
       "{'mercado_libre_id': 'MCO',\n",
       " 'country_name': 'Colombia',\n",
       " 'default_currency': 'COP'}"
      ]
     },
     "execution_count": 5,
     "metadata": {},
     "output_type": "execute_result"
    }
   ],
   "source": [
    "print(\"Metadata de un país específico:\")\n",
    "metadata_pais_especifico = lista_paises_ml[17]\n",
    "metadata_pais_especifico"
   ]
  },
  {
   "cell_type": "code",
   "execution_count": 6,
   "metadata": {},
   "outputs": [
    {
     "name": "stdout",
     "output_type": "stream",
     "text": [
      "El archivo para MCO en la fecha 2025-01-29 ya existe. Cargando el archivo existente.\n"
     ]
    },
    {
     "name": "stderr",
     "output_type": "stream",
     "text": [
      "C:\\Users\\Admin\\AppData\\Local\\Temp\\ipykernel_74596\\229223616.py:195: DtypeWarning: Columns (40,41) have mixed types. Specify dtype option on import or set low_memory=False.\n",
      "  df = pd.read_csv(ruta_archivo)\n"
     ]
    }
   ],
   "source": [
    "df_pais = extraccion_guardado_pais(pais_metadata = metadata_pais_especifico)"
   ]
  },
  {
   "cell_type": "markdown",
   "metadata": {},
   "source": [
    "# 4. Análisis Exploratorio de Datos"
   ]
  },
  {
   "cell_type": "code",
   "execution_count": 7,
   "metadata": {},
   "outputs": [],
   "source": [
    "def limpiar_texto(texto):\n",
    "    \"\"\"\n",
    "    Limpia y formatea un texto:\n",
    "    - Convierte a minúsculas\n",
    "    - Elimina espacios adicionales al inicio, final y entre palabras\n",
    "    - Quita caracteres especiales, pero conserva acentos y caracteres en español\n",
    "    - Devuelve el texto en formato título (Title Case)\n",
    "\n",
    "    Args:\n",
    "        texto (str): El texto a limpiar.\n",
    "\n",
    "    Returns:\n",
    "        str: Texto limpio y formateado.\n",
    "    \"\"\"\n",
    "    if texto:\n",
    "        # Convertir a minúsculas\n",
    "        texto = texto.lower()\n",
    "        \n",
    "        # Quitar caracteres especiales excepto letras, números y caracteres españoles\n",
    "        texto = re.sub(r'[^a-záéíóúüñ0-9\\s]', ' ', texto, flags=re.IGNORECASE)\n",
    "        \n",
    "        # Eliminar espacios adicionales\n",
    "        texto = re.sub(r'\\s+', ' ', texto).strip()\n",
    "        \n",
    "        # Convertir a formato título\n",
    "        texto = texto.title()\n",
    "    \n",
    "    return texto"
   ]
  },
  {
   "cell_type": "code",
   "execution_count": 8,
   "metadata": {},
   "outputs": [],
   "source": [
    "df_pais[\"condition_cleaned\"] = df_pais[\"condition\"].fillna(\"None\").apply(limpiar_texto).str.replace(\"Not Specified\", \"None\")"
   ]
  },
  {
   "cell_type": "code",
   "execution_count": 9,
   "metadata": {},
   "outputs": [],
   "source": [
    "def contar_absolutos_y_relativos(df: pd.DataFrame, columna: str) -> pd.DataFrame:\n",
    "    \"\"\"\n",
    "    Genera un DataFrame con las frecuencias absolutas y relativas (porcentaje) \n",
    "    de los valores en una columna específica de un DataFrame.\n",
    "    \n",
    "    Args:\n",
    "        df (pd.DataFrame): DataFrame de origen.\n",
    "        columna (str): Nombre de la columna del DataFrame sobre la que se desea realizar el conteo.\n",
    "        \n",
    "    Returns:\n",
    "        pd.DataFrame: DataFrame con tres columnas:\n",
    "                      - 'Valor': Valor encontrado en la columna original.\n",
    "                      - 'Frecuencia': Conteo absoluto de cada valor.\n",
    "                      - 'Porcentaje': Porcentaje que representa cada valor respecto al total.\n",
    "    \"\"\"\n",
    "    # Conteo absoluto\n",
    "    conteo_abs = df[columna].value_counts(dropna=False)\n",
    "    \n",
    "    # Conteo relativo (proporción, luego se multiplica por 100 para porcentaje)\n",
    "    conteo_rel = df[columna].value_counts(dropna=False, normalize=True) * 100\n",
    "    \n",
    "    # Crear un nuevo DataFrame con los resultados\n",
    "    resultados = pd.DataFrame({\n",
    "        'Valor': conteo_abs.index,\n",
    "        'Frecuencia': conteo_abs.values,\n",
    "        'Porcentaje': conteo_rel.values\n",
    "    })\n",
    "    \n",
    "    # Opcional: ordenar por frecuencia descendente\n",
    "    resultados.sort_values(by='Frecuencia', ascending=False, inplace=True, ignore_index=True)\n",
    "    \n",
    "    return resultados"
   ]
  },
  {
   "cell_type": "code",
   "execution_count": 10,
   "metadata": {},
   "outputs": [
    {
     "data": {
      "text/html": [
       "<div>\n",
       "<style scoped>\n",
       "    .dataframe tbody tr th:only-of-type {\n",
       "        vertical-align: middle;\n",
       "    }\n",
       "\n",
       "    .dataframe tbody tr th {\n",
       "        vertical-align: top;\n",
       "    }\n",
       "\n",
       "    .dataframe thead th {\n",
       "        text-align: right;\n",
       "    }\n",
       "</style>\n",
       "<table border=\"1\" class=\"dataframe\">\n",
       "  <thead>\n",
       "    <tr style=\"text-align: right;\">\n",
       "      <th></th>\n",
       "      <th>Valor</th>\n",
       "      <th>Frecuencia</th>\n",
       "      <th>Porcentaje</th>\n",
       "    </tr>\n",
       "  </thead>\n",
       "  <tbody>\n",
       "    <tr>\n",
       "      <th>0</th>\n",
       "      <td>New</td>\n",
       "      <td>137028</td>\n",
       "      <td>90.354486</td>\n",
       "    </tr>\n",
       "    <tr>\n",
       "      <th>1</th>\n",
       "      <td>Used</td>\n",
       "      <td>9441</td>\n",
       "      <td>6.225273</td>\n",
       "    </tr>\n",
       "    <tr>\n",
       "      <th>2</th>\n",
       "      <td>None</td>\n",
       "      <td>5187</td>\n",
       "      <td>3.420241</td>\n",
       "    </tr>\n",
       "  </tbody>\n",
       "</table>\n",
       "</div>"
      ],
      "text/plain": [
       "  Valor  Frecuencia  Porcentaje\n",
       "0   New      137028   90.354486\n",
       "1  Used        9441    6.225273\n",
       "2  None        5187    3.420241"
      ]
     },
     "execution_count": 10,
     "metadata": {},
     "output_type": "execute_result"
    }
   ],
   "source": [
    "contar_absolutos_y_relativos(df = df_pais, columna = 'condition_cleaned') "
   ]
  },
  {
   "cell_type": "code",
   "execution_count": 11,
   "metadata": {},
   "outputs": [],
   "source": [
    "df_pais[\"domain_id_cleaned\"] = df_pais[\"domain_id\"].fillna(\"None\").apply(limpiar_texto).str.replace(\"Not Specified\", \"None\").str.replace(\"Mgt \", \"\")"
   ]
  },
  {
   "cell_type": "code",
   "execution_count": 12,
   "metadata": {},
   "outputs": [
    {
     "data": {
      "text/html": [
       "<div>\n",
       "<style scoped>\n",
       "    .dataframe tbody tr th:only-of-type {\n",
       "        vertical-align: middle;\n",
       "    }\n",
       "\n",
       "    .dataframe tbody tr th {\n",
       "        vertical-align: top;\n",
       "    }\n",
       "\n",
       "    .dataframe thead th {\n",
       "        text-align: right;\n",
       "    }\n",
       "</style>\n",
       "<table border=\"1\" class=\"dataframe\">\n",
       "  <thead>\n",
       "    <tr style=\"text-align: right;\">\n",
       "      <th></th>\n",
       "      <th>Valor</th>\n",
       "      <th>Frecuencia</th>\n",
       "      <th>Porcentaje</th>\n",
       "    </tr>\n",
       "  </thead>\n",
       "  <tbody>\n",
       "    <tr>\n",
       "      <th>0</th>\n",
       "      <td>Mco Books</td>\n",
       "      <td>5002</td>\n",
       "      <td>3.298254</td>\n",
       "    </tr>\n",
       "    <tr>\n",
       "      <th>1</th>\n",
       "      <td>Mco Cars And Vans</td>\n",
       "      <td>4771</td>\n",
       "      <td>3.145936</td>\n",
       "    </tr>\n",
       "    <tr>\n",
       "      <th>2</th>\n",
       "      <td>Mco Music Albums</td>\n",
       "      <td>4030</td>\n",
       "      <td>2.657330</td>\n",
       "    </tr>\n",
       "    <tr>\n",
       "      <th>3</th>\n",
       "      <td>Mco Wristwatches</td>\n",
       "      <td>3851</td>\n",
       "      <td>2.539299</td>\n",
       "    </tr>\n",
       "    <tr>\n",
       "      <th>4</th>\n",
       "      <td>Mco Cellphones</td>\n",
       "      <td>2831</td>\n",
       "      <td>1.866725</td>\n",
       "    </tr>\n",
       "    <tr>\n",
       "      <th>5</th>\n",
       "      <td>Mco Supplements</td>\n",
       "      <td>2786</td>\n",
       "      <td>1.837052</td>\n",
       "    </tr>\n",
       "    <tr>\n",
       "      <th>6</th>\n",
       "      <td>Mco Headphones</td>\n",
       "      <td>2612</td>\n",
       "      <td>1.722319</td>\n",
       "    </tr>\n",
       "    <tr>\n",
       "      <th>7</th>\n",
       "      <td>Mco Other Services</td>\n",
       "      <td>2411</td>\n",
       "      <td>1.589782</td>\n",
       "    </tr>\n",
       "    <tr>\n",
       "      <th>8</th>\n",
       "      <td>Mco Game Consoles</td>\n",
       "      <td>2072</td>\n",
       "      <td>1.366250</td>\n",
       "    </tr>\n",
       "    <tr>\n",
       "      <th>9</th>\n",
       "      <td>Mco Candies</td>\n",
       "      <td>1899</td>\n",
       "      <td>1.252176</td>\n",
       "    </tr>\n",
       "    <tr>\n",
       "      <th>10</th>\n",
       "      <td>Mco Individual Lands For Sale</td>\n",
       "      <td>1624</td>\n",
       "      <td>1.070845</td>\n",
       "    </tr>\n",
       "    <tr>\n",
       "      <th>11</th>\n",
       "      <td>Mco Cat And Dog Foods</td>\n",
       "      <td>1508</td>\n",
       "      <td>0.994356</td>\n",
       "    </tr>\n",
       "    <tr>\n",
       "      <th>12</th>\n",
       "      <td>Mco Electric Pressure Washers</td>\n",
       "      <td>1487</td>\n",
       "      <td>0.980509</td>\n",
       "    </tr>\n",
       "    <tr>\n",
       "      <th>13</th>\n",
       "      <td>Mco Office Chairs</td>\n",
       "      <td>1408</td>\n",
       "      <td>0.928417</td>\n",
       "    </tr>\n",
       "    <tr>\n",
       "      <th>14</th>\n",
       "      <td>Mco Balloons</td>\n",
       "      <td>1347</td>\n",
       "      <td>0.888194</td>\n",
       "    </tr>\n",
       "    <tr>\n",
       "      <th>15</th>\n",
       "      <td>Mco Speakers</td>\n",
       "      <td>1290</td>\n",
       "      <td>0.850609</td>\n",
       "    </tr>\n",
       "    <tr>\n",
       "      <th>16</th>\n",
       "      <td>Mco Markers And Highlighters</td>\n",
       "      <td>1276</td>\n",
       "      <td>0.841378</td>\n",
       "    </tr>\n",
       "    <tr>\n",
       "      <th>17</th>\n",
       "      <td>Mco Lighters</td>\n",
       "      <td>1254</td>\n",
       "      <td>0.826871</td>\n",
       "    </tr>\n",
       "    <tr>\n",
       "      <th>18</th>\n",
       "      <td>Mco Microphones</td>\n",
       "      <td>1219</td>\n",
       "      <td>0.803793</td>\n",
       "    </tr>\n",
       "    <tr>\n",
       "      <th>19</th>\n",
       "      <td>Mco Electric Guitars</td>\n",
       "      <td>1128</td>\n",
       "      <td>0.743789</td>\n",
       "    </tr>\n",
       "  </tbody>\n",
       "</table>\n",
       "</div>"
      ],
      "text/plain": [
       "                            Valor  Frecuencia  Porcentaje\n",
       "0                       Mco Books        5002    3.298254\n",
       "1               Mco Cars And Vans        4771    3.145936\n",
       "2                Mco Music Albums        4030    2.657330\n",
       "3                Mco Wristwatches        3851    2.539299\n",
       "4                  Mco Cellphones        2831    1.866725\n",
       "5                 Mco Supplements        2786    1.837052\n",
       "6                  Mco Headphones        2612    1.722319\n",
       "7              Mco Other Services        2411    1.589782\n",
       "8               Mco Game Consoles        2072    1.366250\n",
       "9                     Mco Candies        1899    1.252176\n",
       "10  Mco Individual Lands For Sale        1624    1.070845\n",
       "11          Mco Cat And Dog Foods        1508    0.994356\n",
       "12  Mco Electric Pressure Washers        1487    0.980509\n",
       "13              Mco Office Chairs        1408    0.928417\n",
       "14                   Mco Balloons        1347    0.888194\n",
       "15                   Mco Speakers        1290    0.850609\n",
       "16   Mco Markers And Highlighters        1276    0.841378\n",
       "17                   Mco Lighters        1254    0.826871\n",
       "18                Mco Microphones        1219    0.803793\n",
       "19           Mco Electric Guitars        1128    0.743789"
      ]
     },
     "execution_count": 12,
     "metadata": {},
     "output_type": "execute_result"
    }
   ],
   "source": [
    "contar_absolutos_y_relativos(df = df_pais, columna = 'domain_id_cleaned').head(20)"
   ]
  },
  {
   "cell_type": "code",
   "execution_count": 13,
   "metadata": {},
   "outputs": [],
   "source": [
    "def eliminar_atipicos_iqr(df: pd.DataFrame, columna: str, factor: float = 1.5) -> pd.DataFrame:\n",
    "    \"\"\"\n",
    "    Elimina los valores atípicos de una columna numérica de un DataFrame \n",
    "    utilizando la regla IQR (Interquartile Range).\n",
    "    \n",
    "    Args:\n",
    "        df (pd.DataFrame): DataFrame de origen.\n",
    "        columna (str): Nombre de la columna a filtrar.\n",
    "        factor (float): Factor para multiplicar el IQR (por defecto 1.5). \n",
    "                        Un valor mayor implica filtrar menos datos como atípicos.\n",
    "\n",
    "    Returns:\n",
    "        pd.DataFrame: DataFrame sin los registros considerados atípicos.\n",
    "    \"\"\"\n",
    "    # Calcular cuartiles y rango intercuartílico\n",
    "    q1 = df[columna].quantile(0.25)\n",
    "    q3 = df[columna].quantile(0.75)\n",
    "    iqr = q3 - q1\n",
    "\n",
    "    # Límites inferior y superior para filtrar atípicos\n",
    "    limite_inferior = q1 - factor * iqr\n",
    "    limite_superior = q3 + factor * iqr\n",
    "\n",
    "    # Filtrar el DataFrame para excluir valores atípicos\n",
    "    df_filtrado = df[(df[columna] >= limite_inferior) & (df[columna] <= limite_superior)]\n",
    "\n",
    "    return df_filtrado\n",
    "\n",
    "def graficar_distribucion_kde(df: pd.DataFrame, columna: str, factor_iqr: float = 1.5) -> None:\n",
    "    \"\"\"\n",
    "    Grafica la distribución de una columna numérica usando un KDE (Kernel Density Estimate),\n",
    "    excluyendo los valores atípicos determinados por la regla IQR.\n",
    "    \n",
    "    Args:\n",
    "        df (pd.DataFrame): DataFrame de origen.\n",
    "        columna (str): Nombre de la columna que se desea analizar.\n",
    "        factor_iqr (float): Factor para multiplicar el IQR (por defecto 1.5).\n",
    "    \"\"\"\n",
    "    # Eliminar valores atípicos\n",
    "    df_sin_atipicos = eliminar_atipicos_iqr(df, columna, factor_iqr)\n",
    "\n",
    "    # Crear la figura y el eje\n",
    "    plt.figure(figsize=(8, 5))\n",
    "    sns.kdeplot(data=df_sin_atipicos, x=columna, fill=True)\n",
    "    plt.title(f\"Distribución KDE de '{columna}' (sin atípicos)\")\n",
    "    plt.xlabel(columna)\n",
    "    plt.ylabel(\"Densidad\")\n",
    "    plt.show()\n",
    "\n",
    "def graficar_caja_bigotes(df: pd.DataFrame, columna: str, factor_iqr: float = 1.5) -> None:\n",
    "    \"\"\"\n",
    "    Grafica un boxplot de una columna numérica, excluyendo los valores atípicos\n",
    "    determinados por la regla IQR.\n",
    "    \n",
    "    Args:\n",
    "        df (pd.DataFrame): DataFrame de origen.\n",
    "        columna (str): Nombre de la columna que se desea graficar.\n",
    "        factor_iqr (float): Factor para multiplicar el IQR (por defecto 1.5).\n",
    "    \"\"\"\n",
    "    # Eliminar valores atípicos\n",
    "    df_sin_atipicos = eliminar_atipicos_iqr(df, columna, factor_iqr)\n",
    "\n",
    "    # Crear la figura y el eje\n",
    "    plt.figure(figsize=(4, 6))\n",
    "    sns.boxplot(data=df_sin_atipicos, y=columna)\n",
    "    plt.title(f\"Boxplot de '{columna}' (sin atípicos)\")\n",
    "    plt.ylabel(columna)\n",
    "    plt.show()"
   ]
  },
  {
   "cell_type": "code",
   "execution_count": 14,
   "metadata": {},
   "outputs": [
    {
     "data": {
      "image/png": "[encoded data removed]",
      "text/plain": [
       "<Figure size 800x500 with 1 Axes>"
      ]
     },
     "metadata": {},
     "output_type": "display_data"
    }
   ],
   "source": [
    "# Supongamos que 'df_pais' es el DataFrame resultante que incluye la columna \"price\".\n",
    "# Para graficar la distribución (KDE) sin atípicos:\n",
    "graficar_distribucion_kde(df_pais, \"price\", factor_iqr=1.5)"
   ]
  },
  {
   "cell_type": "code",
   "execution_count": 15,
   "metadata": {},
   "outputs": [
    {
     "data": {
      "image/png": "[encoded data removed]",
      "text/plain": [
       "<Figure size 400x600 with 1 Axes>"
      ]
     },
     "metadata": {},
     "output_type": "display_data"
    }
   ],
   "source": [
    "# Para graficar el boxplot (caja y bigotes) sin atípicos:\n",
    "graficar_caja_bigotes(df_pais, \"price\", factor_iqr=1.5)"
   ]
  },
  {
   "cell_type": "code",
   "execution_count": 16,
   "metadata": {},
   "outputs": [
    {
     "data": {
      "text/html": [
       "<div>\n",
       "<style scoped>\n",
       "    .dataframe tbody tr th:only-of-type {\n",
       "        vertical-align: middle;\n",
       "    }\n",
       "\n",
       "    .dataframe tbody tr th {\n",
       "        vertical-align: top;\n",
       "    }\n",
       "\n",
       "    .dataframe thead th {\n",
       "        text-align: right;\n",
       "    }\n",
       "</style>\n",
       "<table border=\"1\" class=\"dataframe\">\n",
       "  <thead>\n",
       "    <tr style=\"text-align: right;\">\n",
       "      <th></th>\n",
       "      <th>Valor</th>\n",
       "      <th>Frecuencia</th>\n",
       "      <th>Porcentaje</th>\n",
       "    </tr>\n",
       "  </thead>\n",
       "  <tbody>\n",
       "    <tr>\n",
       "      <th>0</th>\n",
       "      <td>True</td>\n",
       "      <td>136558</td>\n",
       "      <td>90.044575</td>\n",
       "    </tr>\n",
       "    <tr>\n",
       "      <th>1</th>\n",
       "      <td>False</td>\n",
       "      <td>15098</td>\n",
       "      <td>9.955425</td>\n",
       "    </tr>\n",
       "  </tbody>\n",
       "</table>\n",
       "</div>"
      ],
      "text/plain": [
       "   Valor  Frecuencia  Porcentaje\n",
       "0   True      136558   90.044575\n",
       "1  False       15098    9.955425"
      ]
     },
     "execution_count": 16,
     "metadata": {},
     "output_type": "execute_result"
    }
   ],
   "source": [
    "contar_absolutos_y_relativos(df = df_pais, columna = 'accepts_mercadopago')"
   ]
  },
  {
   "cell_type": "code",
   "execution_count": 17,
   "metadata": {},
   "outputs": [],
   "source": [
    "# Ejemplo: Extraer 'store_pick_up' y 'free_shipping' de la columna \"shipping\"\n",
    "df_pais[\"store_pick_up\"] = df_pais[\"shipping\"].apply(lambda x: x.get(\"store_pick_up\") if isinstance(x, dict) else None)\n",
    "df_pais[\"free_shipping\"] = df_pais[\"shipping\"].apply(lambda x: x.get(\"free_shipping\") if isinstance(x, dict) else None)\n"
   ]
  },
  {
   "cell_type": "code",
   "execution_count": 18,
   "metadata": {},
   "outputs": [],
   "source": [
    "def obtener_tasa_usd_a_moneda(codigo_moneda: str) -> float:\n",
    "    \"\"\"\n",
    "    Intenta obtener cuántas unidades de 'codigo_moneda' equivalen a 1 USD\n",
    "    usando el ticker 'USD{moneda}=X' en Yahoo Finance.\n",
    "    \n",
    "    Ejemplo: codigo_moneda='ARS' -> Ticker='USDARS=X'\n",
    "             Retorna un float con el cierre más reciente.\n",
    "    \"\"\"\n",
    "    if codigo_moneda.upper() == \"USD\":\n",
    "        return 1.0  # USD a USD es siempre 1\n",
    "    \n",
    "    ticker_symbol = f\"USD{codigo_moneda.upper()}=X\"\n",
    "    ticker = yf.Ticker(ticker_symbol)\n",
    "    \n",
    "    try:\n",
    "        hist = ticker.history(period=\"1d\")  # Pedimos el histórico de 1 día\n",
    "        if hist.empty:\n",
    "            # Yahoo no reconoce el ticker o no hay datos\n",
    "            return None\n",
    "        \n",
    "        # Tomamos el valor de cierre más reciente\n",
    "        tasa = hist[\"Close\"].iloc[-1]\n",
    "        return float(tasa)\n",
    "    except Exception as e:\n",
    "        # Cualquier problema (ticker no existe, error de conexión, etc.)\n",
    "        print(f\"No se pudo obtener la tasa para {codigo_moneda}: {e}\")\n",
    "        return None"
   ]
  },
  {
   "cell_type": "code",
   "execution_count": 19,
   "metadata": {},
   "outputs": [],
   "source": [
    "def crear_tabla_equivalencias_en_dolares_yahoo(lista_paises_ml: list) -> pd.DataFrame:\n",
    "    \"\"\"\n",
    "    Crea una tabla de equivalencias para convertir de la moneda local a USD \n",
    "    utilizando la librería yfinance (Yahoo! Finance), sin necesidad de API key.\n",
    "    \n",
    "    Args:\n",
    "        lista_paises_ml (list): Lista de diccionarios que contienen al menos:\n",
    "                                - 'default_currency': código de la moneda local.\n",
    "    \n",
    "    Returns:\n",
    "        pd.DataFrame: Con columnas:\n",
    "                      - 'currency': Moneda local (p. ej., 'ARS')\n",
    "                      - 'usd_per_1_local': Cuántos USD equivale 1 unidad de esa moneda (si está disponible).\n",
    "                      - 'local_per_1_usd': Cuántos de esa moneda equivale 1 USD (si está disponible).\n",
    "    \"\"\"\n",
    "    # Extraemos las monedas únicas\n",
    "    monedas_unicas = list({pais[\"default_currency\"].upper() for pais in lista_paises_ml})\n",
    "    \n",
    "    data_equivalencias = []\n",
    "    \n",
    "    for moneda in monedas_unicas:\n",
    "        # Obtener cuántas monedas local = 1 USD\n",
    "        # (por ejemplo, si USDARS=X cierra en 300, 1 USD = 300 ARS)\n",
    "        # -> 1 ARS = (1/300) USD\n",
    "        tasa_usd_en_moneda_local = obtener_tasa_usd_a_moneda(moneda)\n",
    "        \n",
    "        if tasa_usd_en_moneda_local is not None and tasa_usd_en_moneda_local > 0:\n",
    "            # 1 moneda local = 1 / tasa_usd_en_moneda_local USD\n",
    "            usd_por_moneda_local = 1 / tasa_usd_en_moneda_local\n",
    "        else:\n",
    "            usd_por_moneda_local = None\n",
    "        \n",
    "        data_equivalencias.append({\n",
    "            \"currency\": moneda,\n",
    "            \"local_per_1_usd\": tasa_usd_en_moneda_local,  # Cuántas monedas = 1 USD\n",
    "            \"usd_per_1_local\": usd_por_moneda_local       # Cuántos USD = 1 moneda local\n",
    "        })\n",
    "    \n",
    "    df_equivalencias = pd.DataFrame(data_equivalencias)\n",
    "    return df_equivalencias"
   ]
  },
  {
   "cell_type": "code",
   "execution_count": 20,
   "metadata": {},
   "outputs": [
    {
     "name": "stdout",
     "output_type": "stream",
     "text": [
      "   currency  local_per_1_usd  usd_per_1_local\n",
      "0       ARS      1051.000000         0.000951\n",
      "1       DOP        61.590000         0.016236\n",
      "2       NIO        36.624298         0.027304\n",
      "3       MXN        20.499451         0.048782\n",
      "4       HNL        25.469900         0.039262\n",
      "5       VES        57.154202         0.017497\n",
      "6       CRC       504.329987         0.001983\n",
      "7       BRL         5.869300         0.170378\n",
      "8       PYG      7891.509766         0.000127\n",
      "9       PEN         3.713700         0.269273\n",
      "10      PAB         1.000000         1.000000\n",
      "11      CLP       989.929993         0.001010\n",
      "12      USD         1.000000         1.000000\n",
      "13      GTQ         7.731000         0.129349\n",
      "14      CUP        24.000000         0.041667\n",
      "15      COP      4167.000000         0.000240\n",
      "16      BOB         6.850000         0.145985\n",
      "17      UYU        43.368000         0.023058\n"
     ]
    }
   ],
   "source": [
    "df_equivalencias = crear_tabla_equivalencias_en_dolares_yahoo(lista_paises_ml)\n",
    "print(df_equivalencias)"
   ]
  },
  {
   "cell_type": "code",
   "execution_count": 21,
   "metadata": {},
   "outputs": [],
   "source": [
    "df_pais_extended = pd.merge(df_pais, df_equivalencias, \n",
    "                     left_on=\"currency_code\", right_on=\"currency\",\n",
    "                     how=\"left\")\n",
    "\n",
    "df_pais_extended[\"price_usd\"] = df_pais_extended[\"price\"] * df_pais_extended[\"usd_per_1_local\"]"
   ]
  },
  {
   "cell_type": "code",
   "execution_count": 22,
   "metadata": {},
   "outputs": [],
   "source": [
    "def limpiar_texto_extendido(texto: str) -> str:\n",
    "    \"\"\"\n",
    "    Limpia y formatea el texto con los siguientes pasos:\n",
    "      1. Convierte a minúsculas.\n",
    "      2. Elimina caracteres no alfanuméricos (exceptuando acentos, eñes y espacios).\n",
    "      3. Elimina espacios sobrantes.\n",
    "      4. Tokeniza la frase (separa en palabras).\n",
    "      5. Quita stopwords en español e inglés.\n",
    "      6. Aplica stemming en español a cada palabra.\n",
    "      7. Retorna el resultado en Title Case.\n",
    "\n",
    "    Args:\n",
    "        texto (str): Texto de entrada.\n",
    "\n",
    "    Returns:\n",
    "        str: Texto procesado, sin caracteres extraños, sin stopwords\n",
    "             (en español e inglés) y con las palabras stemmizadas en español.\n",
    "    \"\"\"\n",
    "    if not texto:\n",
    "        return \"\"\n",
    "\n",
    "    # 1) Convertir a minúsculas\n",
    "    texto = texto.lower()\n",
    "\n",
    "    # 2) Eliminar caracteres especiales (excepto acentos, eñes, dígitos y espacios)\n",
    "    texto = re.sub(r\"[^a-záéíóúüñ0-9\\s]\", \" \", texto, flags=re.IGNORECASE)\n",
    "\n",
    "    # 3) Eliminar espacios adicionales\n",
    "    texto = re.sub(r\"\\s+\", \" \", texto).strip()\n",
    "\n",
    "    # 4) Tokenizar\n",
    "    tokens = texto.split()  # Separación por espacios\n",
    "\n",
    "    # 5) Remover stopwords (ES + EN)\n",
    "    tokens_filtrados = [t for t in tokens if t not in stopwords_totales]\n",
    "\n",
    "    # Unimos tokens y aplicamos Title Case\n",
    "    texto_resultante = \" \".join(tokens_filtrados).title()\n",
    "\n",
    "    return texto_resultante\n"
   ]
  },
  {
   "cell_type": "code",
   "execution_count": 23,
   "metadata": {},
   "outputs": [],
   "source": [
    "def limpiar_y_transformar_df_pais(df_pais: pd.DataFrame, lista_paises_ml: list) -> pd.DataFrame:\n",
    "    \"\"\"\n",
    "    Aplica en 'df_pais' los pasos de limpieza y transformación, \n",
    "    SIN definir las funciones que ya existen en el entorno:\n",
    "      1) Rellena nulos y limpia texto en 'condition', 'title', 'domain_id'\n",
    "         (reemplaza 'Not Specified' por 'None', elimina 'Mgt ' en 'domain_id').\n",
    "      2) Extrae 'store_pick_up' y 'free_shipping' de la columna 'shipping'.\n",
    "      3) Obtiene la tabla de equivalencias de moneda a USD con 'crear_tabla_equivalencias_en_dolares_yahoo'.\n",
    "      4) Realiza un merge para añadir la tasa de conversión.\n",
    "      5) Calcula 'price_usd'.\n",
    "\n",
    "    Se asume que las siguientes funciones ya existen en el entorno:\n",
    "      - limpiar_texto\n",
    "      - crear_tabla_equivalencias_en_dolares_yahoo\n",
    "\n",
    "    Args:\n",
    "        df_pais (pd.DataFrame): DataFrame con las columnas 'condition', 'title', 'domain_id',\n",
    "                                'shipping', 'price', 'currency_code'.\n",
    "        lista_paises_ml (list): Lista de dicts con la llave 'default_currency' \n",
    "                                para construir la tabla de equivalencias.\n",
    "\n",
    "    Returns:\n",
    "        pd.DataFrame: El DataFrame transformado, con las nuevas columnas agregadas.\n",
    "    \"\"\"\n",
    "\n",
    "    # 1) Crear columnas limpias\n",
    "    df_pais[\"condition_cleaned\"] = (\n",
    "        df_pais[\"condition\"]\n",
    "        .fillna(\"None\")\n",
    "        .apply(limpiar_texto)\n",
    "        .str.replace(\"Not Specified\", \"None\", regex=False)\n",
    "    )\n",
    "\n",
    "    df_pais[\"title_sanitized\"] = (\n",
    "        df_pais[\"title\"]\n",
    "        .apply(limpiar_texto)\n",
    "        .str.replace(\"Not Specified\", \"None\", regex=False)\n",
    "    )\n",
    "\n",
    "    df_pais[\"title_cleaned\"] = (\n",
    "        df_pais[\"title\"]\n",
    "        .apply(limpiar_texto_extendido)\n",
    "        .str.replace(\"Not Specified\", \"None\", regex=False)\n",
    "    )\n",
    "\n",
    "    df_pais[\"domain_id_cleaned\"] = (\n",
    "        df_pais[\"domain_id\"]\n",
    "        .fillna(\"None\")\n",
    "        .apply(limpiar_texto)\n",
    "        .str.replace(\"Not Specified\", \"None\", regex=False)\n",
    "        .str.replace(\"Mgt \", \"\", regex=False)\n",
    "    )\n",
    "\n",
    "    # 2) Extraer 'store_pick_up' y 'free_shipping' de la columna \"shipping\"\n",
    "    df_pais[\"store_pick_up\"] = df_pais[\"shipping\"].apply(\n",
    "        lambda x: x.get(\"store_pick_up\") if isinstance(x, dict) else None\n",
    "    )\n",
    "    df_pais[\"free_shipping\"] = df_pais[\"shipping\"].apply(\n",
    "        lambda x: x.get(\"free_shipping\") if isinstance(x, dict) else None\n",
    "    )\n",
    "\n",
    "    # 3) Obtener la tabla de equivalencias a USD (se asume la función existe)\n",
    "    df_equivalencias = crear_tabla_equivalencias_en_dolares_yahoo(lista_paises_ml)\n",
    "\n",
    "    # 4) Realizar el merge para agregar la equivalencia a USD\n",
    "    df_pais_extended = pd.merge(\n",
    "        df_pais,\n",
    "        df_equivalencias,\n",
    "        left_on=\"currency_code\",\n",
    "        right_on=\"currency\",\n",
    "        how=\"left\"\n",
    "    )\n",
    "\n",
    "    # 5) Calcular 'price_usd'\n",
    "    df_pais_extended[\"price_usd\"] = (\n",
    "        df_pais_extended[\"price\"] * df_pais_extended[\"usd_per_1_local\"]\n",
    "    )\n",
    "\n",
    "    return df_pais_extended"
   ]
  },
  {
   "cell_type": "code",
   "execution_count": 24,
   "metadata": {},
   "outputs": [],
   "source": [
    "df_pais_cleaned = limpiar_y_transformar_df_pais(df_pais = df_pais,\n",
    "                                                lista_paises_ml = lista_paises_ml)"
   ]
  },
  {
   "cell_type": "markdown",
   "metadata": {},
   "source": [
    "# 5. Modelos"
   ]
  },
  {
   "cell_type": "markdown",
   "metadata": {},
   "source": [
    "## 5.1. Modelos: Similaridad en texto"
   ]
  },
  {
   "cell_type": "code",
   "execution_count": 25,
   "metadata": {},
   "outputs": [],
   "source": [
    "def generar_clusters_y_calcular_similitud(\n",
    "    df: pd.DataFrame,\n",
    "    texto_col: str = \"title_cleaned\",\n",
    "    eps_inicio: float = 0.05,\n",
    "    eps_fin: float = 0.5,\n",
    "    num_pasos: int = 10,\n",
    "    modelo_sentence_transformers: str = \"paraphrase-MiniLM-L6-v2\",\n",
    "    new_cluster_name: str = \"cluster_name\"\n",
    ") -> pd.DataFrame:\n",
    "    \"\"\"\n",
    "    Genera clústeres usando DBSCAN sobre vectores TF-IDF, selecciona el mejor 'eps'\n",
    "    según Silhouette Score, asigna nombres a cada clúster y calcula la similitud\n",
    "    entre el texto de cada registro y el texto representativo de su propio clúster\n",
    "    usando embeddings de sentence-transformers. Asimismo, se añaden métricas de\n",
    "    precio relacionadas con cada clúster (promedio, diferencia, porcentaje).\n",
    "\n",
    "    Pasos:\n",
    "        1. Crear una copia del DataFrame para no modificar el original.\n",
    "        2. Vectorizar el texto (columna 'texto_col') con TF-IDF.\n",
    "        3. Calcular la matriz de similitudes de coseno.\n",
    "        4. Convertir la similitud en distancia (dist = 1 - sim).\n",
    "        5. Realizar grid search de 'eps' en un rango determinado, usando\n",
    "           Silhouette Score para elegir el mejor resultado.\n",
    "        6. Asignar etiquetas de clúster al DataFrame y nombrar cada clúster\n",
    "           con el texto más largo.\n",
    "        7. Calcular embeddings (sentence-transformers) del título y el nombre\n",
    "           de su clúster, y añadir la columna de similitud.\n",
    "        8. Ajustar el cluster_name si la similitud es < 0.985, poniendo el\n",
    "           título original.\n",
    "        9. Calcular métricas de precio en USD para cada clúster:\n",
    "           - price_usd_mean: promedio de precio en USD por clúster\n",
    "           - cluster_count: conteo de registros en el clúster\n",
    "           - price_usd_diff: diferencia entre el precio y el promedio del clúster\n",
    "           - price_usd_diff_perc: diferencia porcentual respecto al promedio\n",
    "\n",
    "    Args:\n",
    "        df (pd.DataFrame):\n",
    "            DataFrame original que contiene la columna de texto a clusterizar\n",
    "            y columnas de precios.\n",
    "        texto_col (str):\n",
    "            Nombre de la columna de texto limpio. Por defecto, \"title_cleaned\".\n",
    "        eps_inicio (float):\n",
    "            Valor inicial de 'eps' en la búsqueda de DBSCAN. Por defecto, 0.05.\n",
    "        eps_fin (float):\n",
    "            Valor final de 'eps' en la búsqueda de DBSCAN. Por defecto, 0.5.\n",
    "        num_pasos (int):\n",
    "            Número de valores de 'eps' a generar entre eps_inicio y eps_fin.\n",
    "            Por defecto, 10.\n",
    "        modelo_sentence_transformers (str):\n",
    "            Nombre del modelo a cargar de 'sentence_transformers'. Por defecto,\n",
    "            'paraphrase-MiniLM-L6-v2'.\n",
    "\n",
    "    Returns:\n",
    "        pd.DataFrame:\n",
    "            El DataFrame copiado y modificado\n",
    "    \"\"\"\n",
    "\n",
    "    # 1. Crear una copia para no modificar el DataFrame original\n",
    "    df_copy = df.copy(deep=True)\n",
    "\n",
    "    # 2. Vectorizar el texto con TF-IDF\n",
    "    vectorizer = TfidfVectorizer()\n",
    "    X = vectorizer.fit_transform(df_copy[texto_col])\n",
    "\n",
    "    # 3. Calcular similitud de coseno\n",
    "    similitudes = cosine_similarity(X)\n",
    "\n",
    "    # 4. Convertir similitud en distancia\n",
    "    distancias = 1 - similitudes\n",
    "    distancias = np.clip(distancias, 0, None)\n",
    "    np.fill_diagonal(distancias, 0)\n",
    "\n",
    "    # 5. Grid Search para DBSCAN (métrica \"precomputed\")\n",
    "    eps_values = np.round(np.linspace(eps_inicio, eps_fin, num_pasos), 2)\n",
    "    best_eps = None\n",
    "    best_score = -1\n",
    "    best_clusters = None\n",
    "\n",
    "    for eps in tqdm(eps_values,\n",
    "                         desc=\"Probando modelos\",\n",
    "                         total=len(eps_values),\n",
    "                         unit=\"values\"):\n",
    "        \n",
    "        clustering = DBSCAN(metric=\"precomputed\", eps=eps, min_samples=2)\n",
    "        labels = clustering.fit_predict(distancias)\n",
    "\n",
    "        # Ignorar configuraciones sin clústeres válidos (solo 1 etiqueta)\n",
    "        if len(set(labels)) > 1:\n",
    "            score = silhouette_score(distancias, labels, metric=\"precomputed\")\n",
    "            if score > best_score:\n",
    "                best_score = score\n",
    "                best_eps = eps\n",
    "                best_clusters = labels\n",
    "\n",
    "    # Asignar el mejor resultado; si no se encontró, todo se marca como -1\n",
    "    df_copy[\"cluster\"] = best_clusters if best_clusters is not None else -1\n",
    "\n",
    "    # 6. Nombrar cada clúster con el texto más largo\n",
    "    df_copy[new_cluster_name] = df_copy.groupby(\"cluster\")[texto_col].transform(\n",
    "        lambda x: x.loc[x.str.len().idxmax()]\n",
    "    )\n",
    "    df_copy.loc[df_copy[\"cluster\"] == -1, new_cluster_name] = df_copy[texto_col]\n",
    "\n",
    "    # 7. Calcular embeddings y similitud\n",
    "    model = SentenceTransformer(modelo_sentence_transformers)\n",
    "    embeddings_title = model.encode(df_copy[texto_col].tolist())\n",
    "    embeddings_cluster = model.encode(df_copy[new_cluster_name].tolist())\n",
    "\n",
    "    similitudes_fila = []\n",
    "    for i in range(len(df_copy)):\n",
    "        sim = cosine_similarity([embeddings_title[i]], [embeddings_cluster[i]])[0][0]\n",
    "        similitudes_fila.append(sim)\n",
    "    df_copy[\"similarity\"] = similitudes_fila\n",
    "\n",
    "    # 8. Ajustar cluster_name si la similitud es < 0.985\n",
    "    df_copy.loc[df_copy[\"similarity\"] < 0.985, new_cluster_name] = df_copy.loc[\n",
    "        df_copy[\"similarity\"] < 0.985, texto_col\n",
    "    ]\n",
    "\n",
    "    # Mostrar un log del mejor resultado\n",
    "    if best_clusters is not None:\n",
    "        print(f\"\\nMejor eps: {best_eps} con Silhouette Score: {best_score}\")\n",
    "    else:\n",
    "        print(\n",
    "            \"No se encontró un eps óptimo (todos los clusters resultaron en una sola etiqueta).\"\n",
    "        )\n",
    "\n",
    "    # 9. Calcular estadísticas de precio en USD\n",
    "    df_copy[\"price_usd_mean\"] = df_copy.groupby(new_cluster_name)[\"price_usd\"].transform(\n",
    "        \"mean\"\n",
    "    )\n",
    "    df_copy[\"cluster_count\"] = df_copy.groupby(new_cluster_name)[\"price_usd\"].transform(\n",
    "        \"count\"\n",
    "    )\n",
    "    df_copy[\"price_usd_diff\"] = df_copy[\"price_usd\"] - df_copy[\"price_usd_mean\"]\n",
    "    df_copy[\"price_usd_diff_perc\"] = (\n",
    "        (df_copy[\"price_usd\"] / df_copy[\"price_usd_mean\"] - 1) * 100\n",
    "    ).round(6)\n",
    "\n",
    "    return df_copy\n"
   ]
  },
  {
   "cell_type": "code",
   "execution_count": null,
   "metadata": {},
   "outputs": [],
   "source": [
    "df_pais_cleaned_ext = generar_clusters_y_calcular_similitud(\n",
    "    df = df_pais_cleaned,\n",
    "    texto_col=\"title_cleaned\",\n",
    "    eps_inicio=0.05,\n",
    "    eps_fin=0.5,\n",
    "    num_pasos=10,\n",
    "    modelo_sentence_transformers=\"paraphrase-MiniLM-L6-v2\"\n",
    ")"
   ]
  },
  {
   "cell_type": "code",
   "execution_count": 26,
   "metadata": {},
   "outputs": [],
   "source": [
    "def cargar_embedding(ruta_imagen: str) -> np.ndarray:\n",
    "    \"\"\"\n",
    "    Carga un embedding en formato .emb.pkl a partir de la ruta de una imagen.\n",
    "    Si el archivo no existe o ocurre un error, retorna None.\n",
    "\n",
    "    Args:\n",
    "        ruta_imagen (str): Ruta completa a la imagen sin la extensión .emb.pkl.\n",
    "\n",
    "    Returns:\n",
    "        np.ndarray or None: Vector embedding cargado desde el pickle, \n",
    "                            o None si no se pudo cargar.\n",
    "    \"\"\"\n",
    "    if not ruta_imagen:\n",
    "        return None\n",
    "    \n",
    "    # Construimos la ruta al archivo .emb.pkl\n",
    "    embedding_path = ruta_imagen + \".emb.pkl\"\n",
    "    \n",
    "    if not os.path.exists(embedding_path):\n",
    "        return None\n",
    "    \n",
    "    try:\n",
    "        with open(embedding_path, \"rb\") as f:\n",
    "            emb = pickle.load(f)\n",
    "        return emb\n",
    "    except Exception as e:\n",
    "        print(f\"Error cargando {embedding_path}: {e}\")\n",
    "        return None\n",
    "\n",
    "def calcular_similitud_fila(row: pd.Series,\n",
    "                            col1: str = \"image_path\",\n",
    "                            col2: str = \"cluster_img_name\") -> float:\n",
    "    \"\"\"\n",
    "    Toma la información de una fila (serie de pandas), carga los embeddings \n",
    "    de las dos columnas especificadas y calcula la similitud de coseno.\n",
    "\n",
    "    Args:\n",
    "        row (pd.Series): Una fila de DataFrame (el registro actual).\n",
    "        col1 (str): Nombre de la columna que contiene la ruta de la primera imagen.\n",
    "        col2 (str): Nombre de la columna que contiene la ruta de la segunda imagen.\n",
    "\n",
    "    Returns:\n",
    "        float: Similitud de coseno entre los embeddings, o NaN si falla.\n",
    "    \"\"\"\n",
    "    ruta1 = row.get(col1, \"\")\n",
    "    ruta2 = row.get(col2, \"\")\n",
    "    \n",
    "    emb1 = cargar_embedding(ruta1)\n",
    "    emb2 = cargar_embedding(ruta2)\n",
    "    \n",
    "    # Verificamos si ambos embeddings se pudieron cargar\n",
    "    if emb1 is None or emb2 is None:\n",
    "        return np.nan  # No se pudo calcular\n",
    "\n",
    "    # Reshape para usar sklearn.metrics.pairwise.cosine_similarity\n",
    "    emb1_2d = emb1.reshape(1, -1)\n",
    "    emb2_2d = emb2.reshape(1, -1)\n",
    "    \n",
    "    sim = cosine_similarity(emb1_2d, emb2_2d)[0][0]\n",
    "    return sim\n",
    "\n",
    "def comparar_embeddings(df: pd.DataFrame,\n",
    "                        col_image: str = \"image_path\",\n",
    "                        col_cluster: str = \"cluster_img_name\") -> pd.DataFrame:\n",
    "    \"\"\"\n",
    "    Para cada fila, carga los embeddings correspondientes a col_image y col_cluster,\n",
    "    y calcula la similitud de coseno. Agrega una nueva columna 'similarity_emb'.\n",
    "\n",
    "    Args:\n",
    "        df (pd.DataFrame): DataFrame con las columnas col_image y col_cluster.\n",
    "        col_image (str): Columna donde está la ruta de la primera imagen.\n",
    "        col_cluster (str): Columna donde está la ruta de la segunda imagen.\n",
    "\n",
    "    Returns:\n",
    "        pd.DataFrame: Mismo DataFrame con una columna adicional 'similarity_emb'.\n",
    "    \"\"\"\n",
    "    df_copy = df.copy(deep=True)\n",
    "    \n",
    "    # Aplicamos la función de similitud fila a fila\n",
    "    df_copy[\"similarity_img\"] = df_copy.apply(\n",
    "        lambda row: calcular_similitud_fila(row, col1=col_image, col2=col_cluster), \n",
    "        axis=1\n",
    "    )\n",
    "    return df_copy\n",
    "\n",
    "def descargar_imagen(url: str, output_folder: str) -> str:\n",
    "    \"\"\"\n",
    "    Descarga la imagen desde 'url' y la guarda en 'output_folder',\n",
    "    retornando la ruta local donde se almacenó.\n",
    "    Si el archivo ya existe, no se descarga de nuevo.\n",
    "    \"\"\"\n",
    "    try:\n",
    "        filename = os.path.join(output_folder, os.path.basename(url))\n",
    "        if not os.path.exists(filename):\n",
    "            response = requests.get(url, stream=True)\n",
    "            if response.status_code == 200:\n",
    "                with open(filename, \"wb\") as f:\n",
    "                    for chunk in response.iter_content(1024):\n",
    "                        f.write(chunk)\n",
    "            else:\n",
    "                return None\n",
    "        return filename\n",
    "    except Exception:\n",
    "        return None\n",
    "\n",
    "\n",
    "def generar_clusters_imagenes(\n",
    "    df: pd.DataFrame,\n",
    "    url_col: str = \"thumbnail\",\n",
    "    country_col: str = \"country_name\",\n",
    "    output_folder: str = \"imagenes_descargadas\",\n",
    "    model_name: str = \"clip-ViT-B-32\",\n",
    "    eps_inicio: float = 0.05,\n",
    "    eps_fin: float = 0.5,\n",
    "    num_pasos: int = 10\n",
    ") -> pd.DataFrame:\n",
    "    \"\"\"\n",
    "    Toma los enlaces de imágenes (columna 'url_col'), y el nombre de país (columna 'country_col'),\n",
    "    genera subcarpetas para cada país en 'output_folder', descarga las imágenes allí y\n",
    "    posteriormente genera embeddings con 'model_name' (por defecto CLIP 'clip-ViT-B-32').\n",
    "    Luego realiza clustering (DBSCAN) y, finalmente, calcula la similitud de cada imagen\n",
    "    con la imagen representativa de su clúster.\n",
    "\n",
    "    Columns generadas:\n",
    "        - image_path: ruta completa donde se guardó la imagen\n",
    "        - image_filename: nombre de archivo\n",
    "        - cluster_img: etiqueta de clúster asignada por DBSCAN\n",
    "        - cluster_img_name: ruta de la imagen representante del clúster\n",
    "        - similarity_to_cluster: similitud coseno entre la imagen y su representante\n",
    "    \"\"\"\n",
    "    # 1) Copia del df y reindexado\n",
    "    df_copy = df.copy(deep=True).reset_index(drop=True)\n",
    "    os.makedirs(output_folder, exist_ok=True)\n",
    "\n",
    "    # 2) Descarga de imágenes\n",
    "    image_paths = []\n",
    "    image_filenames = []\n",
    "\n",
    "    for i, row in tqdm(df_copy.iterrows(), total=len(df_copy), desc=\"Descargando imágenes\", unit=\"img\"):\n",
    "        url = row.get(url_col, \"\")\n",
    "        country = row.get(country_col, \"Desconocido\")\n",
    "\n",
    "        if isinstance(url, str) and url.startswith(\"http\"):\n",
    "            # Subcarpeta del país\n",
    "            subfolder = os.path.join(output_folder, country)\n",
    "            os.makedirs(subfolder, exist_ok=True)\n",
    "\n",
    "            path = descargar_imagen(url, subfolder)\n",
    "            filename = os.path.basename(path) if path else None\n",
    "        else:\n",
    "            path = None\n",
    "            filename = None\n",
    "\n",
    "        image_paths.append(path)\n",
    "        image_filenames.append(filename)\n",
    "\n",
    "    df_copy[\"image_path\"] = image_paths\n",
    "    df_copy[\"image_filename\"] = image_filenames\n",
    "\n",
    "    # 3) Cargar modelo y generar embeddings\n",
    "    model = SentenceTransformer(model_name)\n",
    "    image_embs = []\n",
    "\n",
    "    for path in tqdm(df_copy[\"image_path\"], desc=\"Generando embeddings\", unit=\"img\"):\n",
    "        if path and os.path.exists(path):\n",
    "            try:\n",
    "                img = Image.open(path).convert(\"RGB\")\n",
    "                emb = model.encode(img)\n",
    "            except Exception:\n",
    "                emb = None\n",
    "        else:\n",
    "            emb = None\n",
    "        image_embs.append(emb)\n",
    "\n",
    "    # Manejar el caso de embeddings None con vectores de ceros\n",
    "    # (suponiendo 512 dimensiones, se puede ajustar si el modelo difiere)\n",
    "    dim = 512\n",
    "    for e in image_embs:\n",
    "        if e is not None:\n",
    "            dim = len(e)\n",
    "            break\n",
    "\n",
    "    def safe_vector(emb):\n",
    "        return emb if emb is not None else np.zeros(dim, dtype=float)\n",
    "\n",
    "    image_embs_array = np.array([safe_vector(e) for e in image_embs], dtype=float)\n",
    "\n",
    "    # 4) Calcular matriz de distancias para DBSCAN\n",
    "    similarities = cosine_similarity(image_embs_array)\n",
    "    distances = 1 - similarities\n",
    "    distances = np.clip(distances, 0, None)\n",
    "    np.fill_diagonal(distances, 0)\n",
    "\n",
    "    # 5) Búsqueda del mejor eps\n",
    "    eps_values = np.round(np.linspace(eps_inicio, eps_fin, num_pasos), 2)\n",
    "    best_eps = None\n",
    "    best_score = -1\n",
    "    best_clusters = None\n",
    "\n",
    "    for eps in tqdm(eps_values, desc=\"Buscando mejor eps\", unit=\"eps\"):\n",
    "        clustering = DBSCAN(metric=\"precomputed\", eps=eps, min_samples=2)\n",
    "        labels = clustering.fit_predict(distances)\n",
    "\n",
    "        # Al menos 2 clusters (más el posible ruido)\n",
    "        if len(set(labels)) > 1:\n",
    "            try:\n",
    "                score = silhouette_score(distances, labels, metric=\"precomputed\")\n",
    "                if score > best_score:\n",
    "                    best_score = score\n",
    "                    best_eps = eps\n",
    "                    best_clusters = labels\n",
    "            except Exception as ex:\n",
    "                print(f\"Error calculando Silhouette Score con eps={eps}: {ex}\")\n",
    "\n",
    "    # Asignar clúster\n",
    "    if best_clusters is not None:\n",
    "        df_copy[\"cluster_img\"] = best_clusters\n",
    "        print(f\"\\nMejor eps: {best_eps} con Silhouette Score: {best_score}\")\n",
    "    else:\n",
    "        df_copy[\"cluster_img\"] = -1\n",
    "        print(\"No se encontró un eps óptimo (solo un clúster o ruido).\")\n",
    "\n",
    "    # 6) Determinar imagen representativa (la primera fila de cada clúster)\n",
    "    df_copy[\"cluster_img_name\"] = df_copy.groupby(\"cluster_img\")[\"image_path\"].transform(\n",
    "        lambda grp: grp.iloc[0]\n",
    "    )\n",
    "    df_copy.loc[df_copy[\"cluster_img\"] == -1, \"cluster_img_name\"] = df_copy[\"image_path\"]\n",
    "\n",
    "    # 7) Calcular similitud con la imagen representativa del clúster\n",
    "    \n",
    "      # Comparamos los embeddings\n",
    "    df_copy = comparar_embeddings(df_copy,\n",
    "                                       col_image=\"image_path\",\n",
    "                                       col_cluster=\"cluster_img_name\")\n",
    "\n",
    "    # 8. Ajustar cluster_name si la similitud es < 0.985\n",
    "    df_copy[\"final_img_name\"] = df_copy[\"cluster_img_name\"].copy()\n",
    "\n",
    "    df_copy.loc[df_copy[\"similarity_img\"] < 0.90, \"final_img_name\"] = df_copy.loc[\n",
    "        df_copy[\"similarity_img\"] < 0.90, \"image_path\"\n",
    "    ]\n",
    "\n",
    "    return df_copy"
   ]
  },
  {
   "cell_type": "code",
   "execution_count": null,
   "metadata": {},
   "outputs": [],
   "source": [
    "df_pais_cleaned_ext = generar_clusters_imagenes(\n",
    "                                                df = df_pais_cleaned_ext,\n",
    "                                                url_col = \"thumbnail\",\n",
    "                                                country_col = \"site_id\",\n",
    "                                                output_folder = r\".\\countries_data\\imgs\",\n",
    "                                                model_name = \"clip-ViT-B-32\",\n",
    "                                                eps_inicio = 0.01,\n",
    "                                                eps_fin = 0.5,\n",
    "                                                num_pasos = 10\n",
    "                                                )"
   ]
  },
  {
   "cell_type": "code",
   "execution_count": 37,
   "metadata": {},
   "outputs": [],
   "source": [
    "df_pais_cleaned_ext[\"similarity_logical\"] = df_pais_cleaned_ext[[\"similarity\", \"similarity_img\"]].mean(axis = 1) > 0.98"
   ]
  },
  {
   "cell_type": "code",
   "execution_count": 38,
   "metadata": {},
   "outputs": [],
   "source": [
    "condition_logical = ~df_pais_cleaned_ext[\"similarity_logical\"]\n",
    "df_pais_cleaned_ext.loc[condition_logical, \"cluster_name\"] = df_pais_cleaned_ext.loc[condition_logical, \"title_cleaned\"]"
   ]
  },
  {
   "cell_type": "code",
   "execution_count": 27,
   "metadata": {},
   "outputs": [],
   "source": [
    "def categorizar_precios_cv(prices: pd.Series, cv_umbral: float = 0.1) -> pd.Series:\n",
    "    \"\"\"\n",
    "    Asigna categorías de precio ('Low', 'Medium', 'High') a cada valor de 'prices'.\n",
    "    Utiliza el Coeficiente de Variación (CV = std / mean) para decidir el método de categorización:\n",
    "    \n",
    "        1) Si mean = 0 o CV <= cv_umbral, asigna 'Medium' a todos los registros.\n",
    "        2) En caso contrario, divide los precios en tres categorías basadas en los percentiles 33 y 66:\n",
    "           - [0 .. p33) => 'Low'\n",
    "           - [p33 .. p66) => 'Medium'\n",
    "           - [p66 .. ∞) => 'High'\n",
    "    \n",
    "    Args:\n",
    "        prices (pd.Series): Serie de precios dentro de un clúster.\n",
    "        cv_umbral (float): Umbral para el Coeficiente de Variación. \n",
    "    \n",
    "    Returns:\n",
    "        pd.Series: Serie con las categorías asignadas ('Low', 'Medium', 'High').\n",
    "    \"\"\"\n",
    "    p_mean = prices.mean()\n",
    "    p_std = prices.std()\n",
    "    \n",
    "    if p_mean == 0 or len(prices) <= 1:\n",
    "        # Asigna 'Medium' si la media es 0 o solo hay un precio\n",
    "        return pd.Series(['Medium'] * len(prices), index=prices.index)\n",
    "    \n",
    "    cv = p_std / p_mean\n",
    "    \n",
    "    if cv <= cv_umbral:\n",
    "        # Poca variación, asigna 'Medium' a todos\n",
    "        return pd.Series(['Medium'] * len(prices), index=prices.index)\n",
    "    else:\n",
    "        # Mayor variación, asigna 'Low', 'Medium', 'High' basado en percentiles\n",
    "        p33 = np.percentile(prices, 33)\n",
    "        p66 = np.percentile(prices, 66)\n",
    "        \n",
    "        # Define categorías basadas en los percentiles\n",
    "        categorias = prices.apply(lambda x: 'Low' if x < p33 else ('Medium' if x < p66 else 'High'))\n",
    "        return categorias\n",
    "\n",
    "def asignar_categorias_precio_cv(df: pd.DataFrame,\n",
    "                                 group_col: str = 'cluster_name',\n",
    "                                 price_col: str = 'price_usd',\n",
    "                                 new_col: str = 'price_category',\n",
    "                                 cv_umbral: float = 0.1) -> pd.DataFrame:\n",
    "    \"\"\"\n",
    "    Agrupa el DataFrame por 'group_col' y categoriza 'price_col' usando el Coeficiente de Variación.\n",
    "    Si CV <= cv_umbral, asigna 'Medium' a todos los registros del grupo.\n",
    "    Si CV > cv_umbral, divide los precios en 'Low', 'Medium' y 'High' basados en percentiles.\n",
    "\n",
    "    Args:\n",
    "        df (pd.DataFrame): DataFrame con al menos 'group_col' y 'price_col'.\n",
    "        group_col (str): Columna para agrupar (ej. 'cluster_name').\n",
    "        price_col (str): Columna de precios (ej. 'price_usd').\n",
    "        new_col (str): Nombre de la columna para las categorías de precio.\n",
    "        cv_umbral (float): Umbral para el Coeficiente de Variación.\n",
    "\n",
    "    Returns:\n",
    "        pd.DataFrame: DataFrame con la columna 'new_col' añadida.\n",
    "    \"\"\"\n",
    "    df_copy = df.copy()\n",
    "    \n",
    "    # Definir una función auxiliar para aplicar a cada grupo\n",
    "    def asignar_categoria(grupo):\n",
    "        return categorizar_precios_cv(grupo, cv_umbral)\n",
    "    \n",
    "    # Usar groupby().transform() para asegurar alineación correcta del índice\n",
    "    df_copy[new_col] = df_copy.groupby(group_col)[price_col].transform(asignar_categoria)\n",
    "    \n",
    "    return df_copy"
   ]
  },
  {
   "cell_type": "code",
   "execution_count": 40,
   "metadata": {},
   "outputs": [],
   "source": [
    "# Llamamos a la función con un umbral de 0.10 (10%)\n",
    "df_result = asignar_categorias_precio_cv(\n",
    "    df_pais_cleaned_ext,\n",
    "    group_col='cluster_name',\n",
    "    price_col='price_usd',\n",
    "    new_col='price_category',\n",
    "    cv_umbral=0.1\n",
    ")"
   ]
  },
  {
   "cell_type": "code",
   "execution_count": 41,
   "metadata": {},
   "outputs": [],
   "source": [
    "df_result[\"cluster_final\"] = df_result[\"cluster_name\"] + \" - \" + df_result[\"price_category\"]"
   ]
  },
  {
   "cell_type": "code",
   "execution_count": 28,
   "metadata": {},
   "outputs": [],
   "source": [
    "def procesar_datos_pais(lista_paises_ml, pais_index=0, eps_inicio_texto=0.01, eps_fin_texto=0.95, \n",
    "                         eps_inicio_img=0.01, eps_fin_img=0.95, num_pasos=20, \n",
    "                         modelo_texto=\"paraphrase-MiniLM-L6-v2\", modelo_imagen=\"clip-ViT-B-32\",\n",
    "                         umbral_similitud=0.98, cv_umbral=0.1, output_folder=r\".\\countries_data\\imgs\"):\n",
    "    \"\"\"\n",
    "    Realiza el procesamiento completo de datos de productos para un país específico, incluyendo:\n",
    "    - Extracción de productos.\n",
    "    - Limpieza y transformación de variables.\n",
    "    - Generación de clusters de texto e imágenes.\n",
    "    - Ajuste basado en similitud.\n",
    "    - Asignación de categorías de precios.\n",
    "    - Creación de identificador final para el clúster.\n",
    "\n",
    "    Args:\n",
    "        lista_paises_ml (list): Lista de países disponibles para la extracción.\n",
    "        pais_index (int): Índice del país en la lista `lista_paises_ml` que se desea procesar.\n",
    "        eps_inicio_texto (float): Valor inicial de `eps` para clustering de texto con DBSCAN.\n",
    "        eps_fin_texto (float): Valor final de `eps` para clustering de texto.\n",
    "        eps_inicio_img (float): Valor inicial de `eps` para clustering de imágenes.\n",
    "        eps_fin_img (float): Valor final de `eps` para clustering de imágenes.\n",
    "        num_pasos (int): Número de valores de `eps` a probar en Grid Search.\n",
    "        modelo_texto (str): Modelo `sentence-transformers` para embeddings de texto.\n",
    "        modelo_imagen (str): Modelo `CLIP` para embeddings de imágenes.\n",
    "        umbral_similitud (float): Umbral para validar la agrupación de texto e imagen.\n",
    "        cv_umbral (float): Umbral del coeficiente de variación para asignar categorías de precio.\n",
    "        output_folder (str): Carpeta donde se guardarán las imágenes descargadas.\n",
    "\n",
    "    Returns:\n",
    "        pd.DataFrame: DataFrame final con clusters y categorías de precios asignadas.\n",
    "    \"\"\"\n",
    "    \n",
    "    # 1. Selección del país a procesar\n",
    "    if pais_index < 0 or pais_index >= len(lista_paises_ml):\n",
    "        raise ValueError(f\"Índice de país inválido: {pais_index}. Debe estar entre 0 y {len(lista_paises_ml) - 1}.\")\n",
    "    \n",
    "    metadata_pais_especifico = lista_paises_ml[pais_index]\n",
    "\n",
    "    # 2. Extracción de productos por país y categoría\n",
    "    df_pais = extraccion_guardado_pais(pais_metadata=metadata_pais_especifico)\n",
    "    df_pais_cols = df_pais.columns\n",
    "\n",
    "    # 3. Limpieza y transformación del DataFrame\n",
    "    df_pais_cleaned = limpiar_y_transformar_df_pais(df_pais=df_pais, lista_paises_ml=lista_paises_ml)\n",
    "\n",
    "    # 4. Generación de clusters de texto\n",
    "    result_text = []\n",
    "\n",
    "    for category in df_pais_cleaned[\"category_name\"].unique():\n",
    "\n",
    "        df_temp = df_pais_cleaned[df_pais_cleaned[\"category_name\"] == category].reset_index(drop = True)\n",
    "\n",
    "        result_text.append(generar_clusters_y_calcular_similitud(\n",
    "            df=df_temp,\n",
    "            texto_col=\"title_cleaned\",\n",
    "            eps_inicio=eps_inicio_texto,\n",
    "            eps_fin=eps_fin_texto,\n",
    "            num_pasos=num_pasos,\n",
    "            modelo_sentence_transformers=modelo_texto\n",
    "        ))\n",
    "\n",
    "    df_pais_cleaned = pd.concat(result_text)\n",
    "\n",
    "    # 5. Generación de clusters de imágenes\n",
    "    result_img = []\n",
    "\n",
    "    for category in df_pais_cleaned[\"category_name\"].unique():\n",
    "\n",
    "        df_temp = df_pais_cleaned[df_pais_cleaned[\"category_name\"] == category].reset_index(drop = True)\n",
    "\n",
    "        result_img.append(generar_clusters_imagenes(\n",
    "            df=df_temp,\n",
    "            url_col=\"thumbnail\",\n",
    "            country_col=\"site_id\",\n",
    "            output_folder=output_folder,\n",
    "            model_name=modelo_imagen,\n",
    "            eps_inicio=eps_inicio_img,\n",
    "            eps_fin=eps_fin_img,\n",
    "            num_pasos=num_pasos\n",
    "        ))\n",
    "\n",
    "    df_pais_cleaned = pd.concat(result_img)\n",
    "\n",
    "    # 6. Ajuste por similitud combinada (texto + imagen)\n",
    "    df_pais_cleaned[\"similarity_logical\"] = df_pais_cleaned[[\"similarity\", \"similarity_img\"]].mean(axis=1) > umbral_similitud\n",
    "\n",
    "    condition_logical = ~df_pais_cleaned[\"similarity_logical\"]\n",
    "    df_pais_cleaned.loc[condition_logical, \"cluster_name\"] = df_pais_cleaned.loc[condition_logical, \"title_cleaned\"]\n",
    "\n",
    "    # 7. Asignación de categorías de precio basada en coeficiente de variación\n",
    "    df_result = asignar_categorias_precio_cv(\n",
    "        df_pais_cleaned,\n",
    "        group_col=\"cluster_name\",\n",
    "        price_col=\"price_usd\",\n",
    "        new_col=\"price_category\",\n",
    "        cv_umbral=cv_umbral\n",
    "    )\n",
    "\n",
    "    # 8. Generación del identificador final del clúster\n",
    "    df_result[\"cluster_final\"] = df_result[\"cluster_name\"] + \" - \" + df_result[\"price_category\"]\n",
    "    try:\n",
    "        df_result = df_result[df_pais_cols.tolist() + [\"cluster_final\"]]\n",
    "    except:\n",
    "        pass\n",
    "\n",
    "    return df_result"
   ]
  },
  {
   "cell_type": "code",
   "execution_count": 29,
   "metadata": {},
   "outputs": [
    {
     "name": "stdout",
     "output_type": "stream",
     "text": [
      "El archivo para MCO en la fecha 2025-01-29 ya existe. Cargando el archivo existente.\n"
     ]
    },
    {
     "name": "stderr",
     "output_type": "stream",
     "text": [
      "C:\\Users\\Admin\\AppData\\Local\\Temp\\ipykernel_74596\\229223616.py:195: DtypeWarning: Columns (40,41) have mixed types. Specify dtype option on import or set low_memory=False.\n",
      "  df = pd.read_csv(ruta_archivo)\n",
      "Probando modelos: 100%|██████████| 20/20 [00:07<00:00,  2.54values/s]\n"
     ]
    },
    {
     "name": "stdout",
     "output_type": "stream",
     "text": [
      "\n",
      "Mejor eps: 0.01 con Silhouette Score: 0.9864015304691545\n"
     ]
    },
    {
     "name": "stderr",
     "output_type": "stream",
     "text": [
      "Probando modelos: 100%|██████████| 20/20 [00:07<00:00,  2.70values/s]\n"
     ]
    },
    {
     "name": "stdout",
     "output_type": "stream",
     "text": [
      "\n",
      "Mejor eps: 0.01 con Silhouette Score: 0.9945080013852208\n"
     ]
    },
    {
     "name": "stderr",
     "output_type": "stream",
     "text": [
      "Probando modelos: 100%|██████████| 20/20 [00:07<00:00,  2.69values/s]\n"
     ]
    },
    {
     "name": "stdout",
     "output_type": "stream",
     "text": [
      "\n",
      "Mejor eps: 0.01 con Silhouette Score: 0.9941339188596612\n"
     ]
    },
    {
     "name": "stderr",
     "output_type": "stream",
     "text": [
      "Probando modelos: 100%|██████████| 20/20 [00:01<00:00, 10.62values/s]\n"
     ]
    },
    {
     "name": "stdout",
     "output_type": "stream",
     "text": [
      "\n",
      "Mejor eps: 0.01 con Silhouette Score: 0.9878599261814205\n"
     ]
    },
    {
     "name": "stderr",
     "output_type": "stream",
     "text": [
      "Probando modelos: 100%|██████████| 20/20 [00:02<00:00,  7.29values/s]\n"
     ]
    },
    {
     "name": "stdout",
     "output_type": "stream",
     "text": [
      "\n",
      "Mejor eps: 0.01 con Silhouette Score: 0.9906762470222511\n"
     ]
    },
    {
     "name": "stderr",
     "output_type": "stream",
     "text": [
      "Probando modelos: 100%|██████████| 20/20 [00:07<00:00,  2.70values/s]\n"
     ]
    },
    {
     "name": "stdout",
     "output_type": "stream",
     "text": [
      "\n",
      "Mejor eps: 0.01 con Silhouette Score: 0.9949733779234022\n"
     ]
    },
    {
     "name": "stderr",
     "output_type": "stream",
     "text": [
      "Probando modelos: 100%|██████████| 20/20 [00:06<00:00,  2.88values/s]\n"
     ]
    },
    {
     "name": "stdout",
     "output_type": "stream",
     "text": [
      "\n",
      "Mejor eps: 0.01 con Silhouette Score: 0.9920184016081629\n"
     ]
    },
    {
     "name": "stderr",
     "output_type": "stream",
     "text": [
      "Probando modelos: 100%|██████████| 20/20 [00:07<00:00,  2.76values/s]\n"
     ]
    },
    {
     "name": "stdout",
     "output_type": "stream",
     "text": [
      "\n",
      "Mejor eps: 0.01 con Silhouette Score: 0.9835252213921845\n"
     ]
    },
    {
     "name": "stderr",
     "output_type": "stream",
     "text": [
      "Probando modelos: 100%|██████████| 20/20 [00:00<00:00, 135.25values/s]\n"
     ]
    },
    {
     "name": "stdout",
     "output_type": "stream",
     "text": [
      "\n",
      "Mejor eps: 0.01 con Silhouette Score: 0.9890907627818798\n"
     ]
    },
    {
     "name": "stderr",
     "output_type": "stream",
     "text": [
      "Probando modelos: 100%|██████████| 20/20 [00:07<00:00,  2.72values/s]\n"
     ]
    },
    {
     "name": "stdout",
     "output_type": "stream",
     "text": [
      "\n",
      "Mejor eps: 0.01 con Silhouette Score: 0.9941894067881901\n"
     ]
    },
    {
     "name": "stderr",
     "output_type": "stream",
     "text": [
      "Probando modelos: 100%|██████████| 20/20 [00:07<00:00,  2.61values/s]\n"
     ]
    },
    {
     "name": "stdout",
     "output_type": "stream",
     "text": [
      "\n",
      "Mejor eps: 0.01 con Silhouette Score: 0.9949206327391223\n"
     ]
    },
    {
     "name": "stderr",
     "output_type": "stream",
     "text": [
      "Probando modelos: 100%|██████████| 20/20 [00:08<00:00,  2.45values/s]\n"
     ]
    },
    {
     "name": "stdout",
     "output_type": "stream",
     "text": [
      "\n",
      "Mejor eps: 0.01 con Silhouette Score: 0.9941071394372221\n"
     ]
    },
    {
     "name": "stderr",
     "output_type": "stream",
     "text": [
      "Probando modelos: 100%|██████████| 20/20 [00:07<00:00,  2.57values/s]\n"
     ]
    },
    {
     "name": "stdout",
     "output_type": "stream",
     "text": [
      "\n",
      "Mejor eps: 0.01 con Silhouette Score: 0.9941285811925944\n"
     ]
    },
    {
     "name": "stderr",
     "output_type": "stream",
     "text": [
      "Probando modelos: 100%|██████████| 20/20 [00:07<00:00,  2.76values/s]\n"
     ]
    },
    {
     "name": "stdout",
     "output_type": "stream",
     "text": [
      "\n",
      "Mejor eps: 0.01 con Silhouette Score: 0.9944783603338523\n"
     ]
    },
    {
     "name": "stderr",
     "output_type": "stream",
     "text": [
      "Probando modelos: 100%|██████████| 20/20 [00:07<00:00,  2.70values/s]\n"
     ]
    },
    {
     "name": "stdout",
     "output_type": "stream",
     "text": [
      "\n",
      "Mejor eps: 0.01 con Silhouette Score: 0.9939970672949081\n"
     ]
    },
    {
     "name": "stderr",
     "output_type": "stream",
     "text": [
      "Probando modelos: 100%|██████████| 20/20 [00:07<00:00,  2.78values/s]\n"
     ]
    },
    {
     "name": "stdout",
     "output_type": "stream",
     "text": [
      "\n",
      "Mejor eps: 0.01 con Silhouette Score: 0.9860976260582195\n"
     ]
    },
    {
     "name": "stderr",
     "output_type": "stream",
     "text": [
      "Probando modelos: 100%|██████████| 20/20 [00:06<00:00,  2.87values/s]\n"
     ]
    },
    {
     "name": "stdout",
     "output_type": "stream",
     "text": [
      "\n",
      "Mejor eps: 0.01 con Silhouette Score: 0.9938217574637922\n"
     ]
    },
    {
     "name": "stderr",
     "output_type": "stream",
     "text": [
      "Probando modelos: 100%|██████████| 20/20 [00:07<00:00,  2.80values/s]\n"
     ]
    },
    {
     "name": "stdout",
     "output_type": "stream",
     "text": [
      "\n",
      "Mejor eps: 0.01 con Silhouette Score: 0.9944916987629504\n"
     ]
    },
    {
     "name": "stderr",
     "output_type": "stream",
     "text": [
      "Probando modelos: 100%|██████████| 20/20 [00:07<00:00,  2.84values/s]\n"
     ]
    },
    {
     "name": "stdout",
     "output_type": "stream",
     "text": [
      "\n",
      "Mejor eps: 0.06 con Silhouette Score: 0.9842175398727525\n"
     ]
    },
    {
     "name": "stderr",
     "output_type": "stream",
     "text": [
      "Probando modelos: 100%|██████████| 20/20 [00:06<00:00,  2.94values/s]\n"
     ]
    },
    {
     "name": "stdout",
     "output_type": "stream",
     "text": [
      "\n",
      "Mejor eps: 0.01 con Silhouette Score: 0.993977467420063\n"
     ]
    },
    {
     "name": "stderr",
     "output_type": "stream",
     "text": [
      "Probando modelos: 100%|██████████| 20/20 [00:07<00:00,  2.85values/s]\n"
     ]
    },
    {
     "name": "stdout",
     "output_type": "stream",
     "text": [
      "\n",
      "Mejor eps: 0.01 con Silhouette Score: 0.9941248755109723\n"
     ]
    },
    {
     "name": "stderr",
     "output_type": "stream",
     "text": [
      "Probando modelos: 100%|██████████| 20/20 [00:06<00:00,  2.86values/s]\n"
     ]
    },
    {
     "name": "stdout",
     "output_type": "stream",
     "text": [
      "\n",
      "Mejor eps: 0.01 con Silhouette Score: 0.9950390474182049\n"
     ]
    },
    {
     "name": "stderr",
     "output_type": "stream",
     "text": [
      "Probando modelos: 100%|██████████| 20/20 [00:07<00:00,  2.80values/s]\n"
     ]
    },
    {
     "name": "stdout",
     "output_type": "stream",
     "text": [
      "\n",
      "Mejor eps: 0.01 con Silhouette Score: 0.995231581977462\n"
     ]
    },
    {
     "name": "stderr",
     "output_type": "stream",
     "text": [
      "Probando modelos: 100%|██████████| 20/20 [00:07<00:00,  2.80values/s]\n"
     ]
    },
    {
     "name": "stdout",
     "output_type": "stream",
     "text": [
      "\n",
      "Mejor eps: 0.01 con Silhouette Score: 0.9895147209789554\n"
     ]
    },
    {
     "name": "stderr",
     "output_type": "stream",
     "text": [
      "Probando modelos: 100%|██████████| 20/20 [00:06<00:00,  2.87values/s]\n"
     ]
    },
    {
     "name": "stdout",
     "output_type": "stream",
     "text": [
      "\n",
      "Mejor eps: 0.01 con Silhouette Score: 0.9874238347986948\n"
     ]
    },
    {
     "name": "stderr",
     "output_type": "stream",
     "text": [
      "Probando modelos: 100%|██████████| 20/20 [00:07<00:00,  2.84values/s]\n"
     ]
    },
    {
     "name": "stdout",
     "output_type": "stream",
     "text": [
      "\n",
      "Mejor eps: 0.01 con Silhouette Score: 0.9945863515689594\n"
     ]
    },
    {
     "name": "stderr",
     "output_type": "stream",
     "text": [
      "Probando modelos: 100%|██████████| 20/20 [00:07<00:00,  2.80values/s]\n"
     ]
    },
    {
     "name": "stdout",
     "output_type": "stream",
     "text": [
      "\n",
      "Mejor eps: 0.01 con Silhouette Score: 0.9945370630777555\n"
     ]
    },
    {
     "name": "stderr",
     "output_type": "stream",
     "text": [
      "Probando modelos: 100%|██████████| 20/20 [00:07<00:00,  2.77values/s]\n"
     ]
    },
    {
     "name": "stdout",
     "output_type": "stream",
     "text": [
      "\n",
      "Mejor eps: 0.01 con Silhouette Score: 0.9949897806508519\n"
     ]
    },
    {
     "name": "stderr",
     "output_type": "stream",
     "text": [
      "Probando modelos: 100%|██████████| 20/20 [00:07<00:00,  2.85values/s]\n"
     ]
    },
    {
     "name": "stdout",
     "output_type": "stream",
     "text": [
      "\n",
      "Mejor eps: 0.01 con Silhouette Score: 0.9941004561360464\n"
     ]
    },
    {
     "name": "stderr",
     "output_type": "stream",
     "text": [
      "Probando modelos: 100%|██████████| 20/20 [00:07<00:00,  2.81values/s]\n"
     ]
    },
    {
     "name": "stdout",
     "output_type": "stream",
     "text": [
      "\n",
      "Mejor eps: 0.01 con Silhouette Score: 0.9941335509543597\n"
     ]
    },
    {
     "name": "stderr",
     "output_type": "stream",
     "text": [
      "Probando modelos: 100%|██████████| 20/20 [00:07<00:00,  2.82values/s]\n"
     ]
    },
    {
     "name": "stdout",
     "output_type": "stream",
     "text": [
      "\n",
      "Mejor eps: 0.01 con Silhouette Score: 0.9950899503211663\n"
     ]
    },
    {
     "name": "stderr",
     "output_type": "stream",
     "text": [
      "Probando modelos: 100%|██████████| 20/20 [00:06<00:00,  2.90values/s]\n"
     ]
    },
    {
     "name": "stdout",
     "output_type": "stream",
     "text": [
      "\n",
      "Mejor eps: 0.01 con Silhouette Score: 0.9947170060479984\n"
     ]
    },
    {
     "name": "stderr",
     "output_type": "stream",
     "text": [
      "Descargando imágenes: 100%|██████████| 4954/4954 [00:00<00:00, 5060.81img/s]\n",
      "Generando embeddings: 100%|██████████| 4954/4954 [03:35<00:00, 23.01img/s]\n",
      "Buscando mejor eps: 100%|██████████| 20/20 [00:07<00:00,  2.55eps/s]\n"
     ]
    },
    {
     "name": "stdout",
     "output_type": "stream",
     "text": [
      "\n",
      "Mejor eps: 0.01 con Silhouette Score: 0.9761508927102542\n"
     ]
    },
    {
     "name": "stderr",
     "output_type": "stream",
     "text": [
      "Descargando imágenes: 100%|██████████| 5025/5025 [00:00<00:00, 5040.30img/s]\n",
      "Generando embeddings: 100%|██████████| 5025/5025 [03:36<00:00, 23.24img/s]\n",
      "Buscando mejor eps: 100%|██████████| 20/20 [00:08<00:00,  2.50eps/s]\n"
     ]
    },
    {
     "name": "stdout",
     "output_type": "stream",
     "text": [
      "\n",
      "Mejor eps: 0.01 con Silhouette Score: 0.9885592150218764\n"
     ]
    },
    {
     "name": "stderr",
     "output_type": "stream",
     "text": [
      "Descargando imágenes: 100%|██████████| 5050/5050 [00:01<00:00, 4945.45img/s]\n",
      "Generando embeddings: 100%|██████████| 5050/5050 [03:35<00:00, 23.42img/s]\n",
      "Buscando mejor eps: 100%|██████████| 20/20 [00:07<00:00,  2.54eps/s]\n"
     ]
    },
    {
     "name": "stdout",
     "output_type": "stream",
     "text": [
      "\n",
      "Mejor eps: 0.01 con Silhouette Score: 0.994165456136601\n"
     ]
    },
    {
     "name": "stderr",
     "output_type": "stream",
     "text": [
      "Descargando imágenes: 100%|██████████| 2488/2488 [00:00<00:00, 4835.03img/s]\n",
      "Generando embeddings: 100%|██████████| 2488/2488 [01:46<00:00, 23.34img/s]\n",
      "Buscando mejor eps: 100%|██████████| 20/20 [00:01<00:00, 10.52eps/s]\n"
     ]
    },
    {
     "name": "stdout",
     "output_type": "stream",
     "text": [
      "\n",
      "Mejor eps: 0.01 con Silhouette Score: 0.9848210665818936\n"
     ]
    },
    {
     "name": "stderr",
     "output_type": "stream",
     "text": [
      "Descargando imágenes: 100%|██████████| 2935/2935 [00:00<00:00, 4990.23img/s]\n",
      "Generando embeddings: 100%|██████████| 2935/2935 [02:05<00:00, 23.36img/s]\n",
      "Buscando mejor eps: 100%|██████████| 20/20 [00:02<00:00,  7.19eps/s]\n"
     ]
    },
    {
     "name": "stdout",
     "output_type": "stream",
     "text": [
      "\n",
      "Mejor eps: 0.01 con Silhouette Score: 0.9896834576417167\n"
     ]
    },
    {
     "name": "stderr",
     "output_type": "stream",
     "text": [
      "Descargando imágenes: 100%|██████████| 5040/5040 [00:01<00:00, 5032.21img/s]\n",
      "Generando embeddings: 100%|██████████| 5040/5040 [03:35<00:00, 23.36img/s]\n",
      "Buscando mejor eps: 100%|██████████| 20/20 [00:08<00:00,  2.45eps/s]\n"
     ]
    },
    {
     "name": "stdout",
     "output_type": "stream",
     "text": [
      "\n",
      "Mejor eps: 0.01 con Silhouette Score: 0.9914289825701948\n"
     ]
    },
    {
     "name": "stderr",
     "output_type": "stream",
     "text": [
      "Descargando imágenes: 100%|██████████| 4948/4948 [00:00<00:00, 4986.56img/s]\n",
      "Generando embeddings: 100%|██████████| 4948/4948 [03:33<00:00, 23.16img/s]\n",
      "Buscando mejor eps: 100%|██████████| 20/20 [00:07<00:00,  2.62eps/s]\n"
     ]
    },
    {
     "name": "stdout",
     "output_type": "stream",
     "text": [
      "\n",
      "Mejor eps: 0.01 con Silhouette Score: 0.9884685734152457\n"
     ]
    },
    {
     "name": "stderr",
     "output_type": "stream",
     "text": [
      "Descargando imágenes: 100%|██████████| 4993/4993 [00:01<00:00, 4974.53img/s]\n",
      "Generando embeddings: 100%|██████████| 4993/4993 [03:34<00:00, 23.31img/s]\n",
      "Buscando mejor eps: 100%|██████████| 20/20 [00:07<00:00,  2.52eps/s]\n"
     ]
    },
    {
     "name": "stdout",
     "output_type": "stream",
     "text": [
      "\n",
      "Mejor eps: 0.01 con Silhouette Score: 0.9819910592059353\n"
     ]
    },
    {
     "name": "stderr",
     "output_type": "stream",
     "text": [
      "Descargando imágenes: 100%|██████████| 750/750 [00:00<00:00, 5049.99img/s]\n",
      "Generando embeddings: 100%|██████████| 750/750 [00:31<00:00, 23.56img/s]\n",
      "Buscando mejor eps: 100%|██████████| 20/20 [00:00<00:00, 112.98eps/s]\n"
     ]
    },
    {
     "name": "stdout",
     "output_type": "stream",
     "text": [
      "\n",
      "Mejor eps: 0.01 con Silhouette Score: 0.9995472994504098\n"
     ]
    },
    {
     "name": "stderr",
     "output_type": "stream",
     "text": [
      "Descargando imágenes: 100%|██████████| 5006/5006 [00:00<00:00, 5088.99img/s]\n",
      "Generando embeddings: 100%|██████████| 5006/5006 [03:35<00:00, 23.25img/s]\n",
      "Buscando mejor eps: 100%|██████████| 20/20 [00:07<00:00,  2.52eps/s]\n"
     ]
    },
    {
     "name": "stdout",
     "output_type": "stream",
     "text": [
      "\n",
      "Mejor eps: 0.01 con Silhouette Score: 0.9889187905985594\n"
     ]
    },
    {
     "name": "stderr",
     "output_type": "stream",
     "text": [
      "Descargando imágenes: 100%|██████████| 5003/5003 [00:00<00:00, 5014.19img/s]\n",
      "Generando embeddings: 100%|██████████| 5003/5003 [03:33<00:00, 23.46img/s]\n",
      "Buscando mejor eps: 100%|██████████| 20/20 [00:07<00:00,  2.53eps/s]\n"
     ]
    },
    {
     "name": "stdout",
     "output_type": "stream",
     "text": [
      "\n",
      "Mejor eps: 0.01 con Silhouette Score: 0.9934745764527189\n"
     ]
    },
    {
     "name": "stderr",
     "output_type": "stream",
     "text": [
      "Descargando imágenes: 100%|██████████| 4997/4997 [00:00<00:00, 5016.50img/s]\n",
      "Generando embeddings: 100%|██████████| 4997/4997 [03:35<00:00, 23.15img/s]\n",
      "Buscando mejor eps: 100%|██████████| 20/20 [00:07<00:00,  2.62eps/s]\n"
     ]
    },
    {
     "name": "stdout",
     "output_type": "stream",
     "text": [
      "\n",
      "Mejor eps: 0.01 con Silhouette Score: 0.9909450171250539\n"
     ]
    },
    {
     "name": "stderr",
     "output_type": "stream",
     "text": [
      "Descargando imágenes: 100%|██████████| 5025/5025 [00:01<00:00, 4918.24img/s]\n",
      "Generando embeddings: 100%|██████████| 5025/5025 [03:34<00:00, 23.44img/s]\n",
      "Buscando mejor eps: 100%|██████████| 20/20 [00:07<00:00,  2.57eps/s]\n"
     ]
    },
    {
     "name": "stdout",
     "output_type": "stream",
     "text": [
      "\n",
      "Mejor eps: 0.01 con Silhouette Score: 0.9880844274165961\n"
     ]
    },
    {
     "name": "stderr",
     "output_type": "stream",
     "text": [
      "Descargando imágenes: 100%|██████████| 5025/5025 [00:00<00:00, 5036.09img/s]\n",
      "Generando embeddings: 100%|██████████| 5025/5025 [03:36<00:00, 23.21img/s]\n",
      "Buscando mejor eps: 100%|██████████| 20/20 [00:07<00:00,  2.65eps/s]\n"
     ]
    },
    {
     "name": "stdout",
     "output_type": "stream",
     "text": [
      "\n",
      "Mejor eps: 0.01 con Silhouette Score: 0.9889582222594502\n"
     ]
    },
    {
     "name": "stderr",
     "output_type": "stream",
     "text": [
      "Descargando imágenes: 100%|██████████| 5008/5008 [00:01<00:00, 4979.86img/s]\n",
      "Generando embeddings: 100%|██████████| 5008/5008 [03:35<00:00, 23.26img/s]\n",
      "Buscando mejor eps: 100%|██████████| 20/20 [00:07<00:00,  2.60eps/s]\n"
     ]
    },
    {
     "name": "stdout",
     "output_type": "stream",
     "text": [
      "\n",
      "Mejor eps: 0.01 con Silhouette Score: 0.9882688352793961\n"
     ]
    },
    {
     "name": "stderr",
     "output_type": "stream",
     "text": [
      "Descargando imágenes: 100%|██████████| 5040/5040 [00:01<00:00, 4984.24img/s]\n",
      "Generando embeddings: 100%|██████████| 5040/5040 [03:37<00:00, 23.15img/s]\n",
      "Buscando mejor eps: 100%|██████████| 20/20 [00:07<00:00,  2.53eps/s]\n"
     ]
    },
    {
     "name": "stdout",
     "output_type": "stream",
     "text": [
      "\n",
      "Mejor eps: 0.01 con Silhouette Score: 0.9836850420856467\n"
     ]
    },
    {
     "name": "stderr",
     "output_type": "stream",
     "text": [
      "Descargando imágenes: 100%|██████████| 5035/5035 [00:01<00:00, 4956.03img/s]\n",
      "Generando embeddings: 100%|██████████| 5035/5035 [03:36<00:00, 23.24img/s]\n",
      "Buscando mejor eps: 100%|██████████| 20/20 [00:07<00:00,  2.59eps/s]\n"
     ]
    },
    {
     "name": "stdout",
     "output_type": "stream",
     "text": [
      "\n",
      "Mejor eps: 0.01 con Silhouette Score: 0.9902440687180714\n"
     ]
    },
    {
     "name": "stderr",
     "output_type": "stream",
     "text": [
      "Descargando imágenes: 100%|██████████| 5040/5040 [00:01<00:00, 4925.96img/s]\n",
      "Generando embeddings: 100%|██████████| 5040/5040 [03:35<00:00, 23.35img/s]\n",
      "Buscando mejor eps: 100%|██████████| 20/20 [00:07<00:00,  2.65eps/s]\n"
     ]
    },
    {
     "name": "stdout",
     "output_type": "stream",
     "text": [
      "\n",
      "Mejor eps: 0.01 con Silhouette Score: 0.990292344515434\n"
     ]
    },
    {
     "name": "stderr",
     "output_type": "stream",
     "text": [
      "Descargando imágenes: 100%|██████████| 5036/5036 [00:01<00:00, 4946.24img/s]\n",
      "Generando embeddings: 100%|██████████| 5036/5036 [03:36<00:00, 23.26img/s]\n",
      "Buscando mejor eps: 100%|██████████| 20/20 [00:08<00:00,  2.48eps/s]\n"
     ]
    },
    {
     "name": "stdout",
     "output_type": "stream",
     "text": [
      "\n",
      "Mejor eps: 0.01 con Silhouette Score: 0.9797926569915187\n"
     ]
    },
    {
     "name": "stderr",
     "output_type": "stream",
     "text": [
      "Descargando imágenes: 100%|██████████| 4918/4918 [00:01<00:00, 4917.14img/s]\n",
      "Generando embeddings: 100%|██████████| 4918/4918 [03:29<00:00, 23.45img/s]\n",
      "Buscando mejor eps: 100%|██████████| 20/20 [00:07<00:00,  2.72eps/s]\n"
     ]
    },
    {
     "name": "stdout",
     "output_type": "stream",
     "text": [
      "\n",
      "Mejor eps: 0.01 con Silhouette Score: 0.9915969820432187\n"
     ]
    },
    {
     "name": "stderr",
     "output_type": "stream",
     "text": [
      "Descargando imágenes: 100%|██████████| 5045/5045 [00:01<00:00, 5025.83img/s]\n",
      "Generando embeddings: 100%|██████████| 5045/5045 [03:38<00:00, 23.12img/s]\n",
      "Buscando mejor eps: 100%|██████████| 20/20 [00:07<00:00,  2.57eps/s]\n"
     ]
    },
    {
     "name": "stdout",
     "output_type": "stream",
     "text": [
      "\n",
      "Mejor eps: 0.01 con Silhouette Score: 0.9919363510988439\n"
     ]
    },
    {
     "name": "stderr",
     "output_type": "stream",
     "text": [
      "Descargando imágenes: 100%|██████████| 5050/5050 [00:01<00:00, 5031.19img/s]\n",
      "Generando embeddings: 100%|██████████| 5050/5050 [03:33<00:00, 23.61img/s]\n",
      "Buscando mejor eps: 100%|██████████| 20/20 [00:09<00:00,  2.11eps/s]\n"
     ]
    },
    {
     "name": "stdout",
     "output_type": "stream",
     "text": [
      "\n",
      "Mejor eps: 0.01 con Silhouette Score: 0.9885866523722378\n"
     ]
    },
    {
     "name": "stderr",
     "output_type": "stream",
     "text": [
      "Descargando imágenes: 100%|██████████| 5040/5040 [00:01<00:00, 4916.34img/s]\n",
      "Generando embeddings: 100%|██████████| 5040/5040 [03:35<00:00, 23.36img/s]\n",
      "Buscando mejor eps: 100%|██████████| 20/20 [00:07<00:00,  2.67eps/s]\n"
     ]
    },
    {
     "name": "stdout",
     "output_type": "stream",
     "text": [
      "\n",
      "Mejor eps: 0.01 con Silhouette Score: 0.9770463343719398\n"
     ]
    },
    {
     "name": "stderr",
     "output_type": "stream",
     "text": [
      "Descargando imágenes: 100%|██████████| 5042/5042 [00:01<00:00, 5012.90img/s]\n",
      "Generando embeddings: 100%|██████████| 5042/5042 [03:37<00:00, 23.21img/s]\n",
      "Buscando mejor eps: 100%|██████████| 20/20 [00:07<00:00,  2.72eps/s]\n"
     ]
    },
    {
     "name": "stdout",
     "output_type": "stream",
     "text": [
      "\n",
      "Mejor eps: 0.01 con Silhouette Score: 0.9868242158815834\n"
     ]
    },
    {
     "name": "stderr",
     "output_type": "stream",
     "text": [
      "Descargando imágenes: 100%|██████████| 5002/5002 [00:01<00:00, 4940.59img/s]\n",
      "Generando embeddings: 100%|██████████| 5002/5002 [03:34<00:00, 23.31img/s]\n",
      "Buscando mejor eps: 100%|██████████| 20/20 [00:07<00:00,  2.85eps/s]\n"
     ]
    },
    {
     "name": "stdout",
     "output_type": "stream",
     "text": [
      "\n",
      "Mejor eps: 0.01 con Silhouette Score: 0.9875469777181649\n"
     ]
    },
    {
     "name": "stderr",
     "output_type": "stream",
     "text": [
      "Descargando imágenes: 100%|██████████| 5025/5025 [00:01<00:00, 4987.83img/s]\n",
      "Generando embeddings: 100%|██████████| 5025/5025 [03:36<00:00, 23.22img/s]\n",
      "Buscando mejor eps: 100%|██████████| 20/20 [00:07<00:00,  2.74eps/s]\n"
     ]
    },
    {
     "name": "stdout",
     "output_type": "stream",
     "text": [
      "\n",
      "Mejor eps: 0.01 con Silhouette Score: 0.9932435999369483\n"
     ]
    },
    {
     "name": "stderr",
     "output_type": "stream",
     "text": [
      "Descargando imágenes: 100%|██████████| 5045/5045 [00:01<00:00, 4964.07img/s]\n",
      "Generando embeddings: 100%|██████████| 5045/5045 [03:39<00:00, 23.01img/s]\n",
      "Buscando mejor eps: 100%|██████████| 20/20 [00:07<00:00,  2.75eps/s]\n"
     ]
    },
    {
     "name": "stdout",
     "output_type": "stream",
     "text": [
      "\n",
      "Mejor eps: 0.01 con Silhouette Score: 0.9933416998093507\n"
     ]
    },
    {
     "name": "stderr",
     "output_type": "stream",
     "text": [
      "Descargando imágenes: 100%|██████████| 5035/5035 [00:01<00:00, 4952.21img/s]\n",
      "Generando embeddings: 100%|██████████| 5035/5035 [03:36<00:00, 23.25img/s]\n",
      "Buscando mejor eps: 100%|██████████| 20/20 [00:08<00:00,  2.45eps/s]\n"
     ]
    },
    {
     "name": "stdout",
     "output_type": "stream",
     "text": [
      "\n",
      "Mejor eps: 0.01 con Silhouette Score: 0.9901115746167374\n"
     ]
    },
    {
     "name": "stderr",
     "output_type": "stream",
     "text": [
      "Descargando imágenes: 100%|██████████| 5014/5014 [00:01<00:00, 3063.42img/s]\n",
      "Generando embeddings: 100%|██████████| 5014/5014 [03:41<00:00, 22.59img/s]\n",
      "Buscando mejor eps: 100%|██████████| 20/20 [00:09<00:00,  2.21eps/s]\n"
     ]
    },
    {
     "name": "stdout",
     "output_type": "stream",
     "text": [
      "\n",
      "Mejor eps: 0.01 con Silhouette Score: 0.9868898704045757\n"
     ]
    },
    {
     "name": "stderr",
     "output_type": "stream",
     "text": [
      "Descargando imágenes: 100%|██████████| 5040/5040 [00:01<00:00, 4901.84img/s]\n",
      "Generando embeddings: 100%|██████████| 5040/5040 [03:38<00:00, 23.04img/s]\n",
      "Buscando mejor eps: 100%|██████████| 20/20 [00:07<00:00,  2.75eps/s]\n"
     ]
    },
    {
     "name": "stdout",
     "output_type": "stream",
     "text": [
      "\n",
      "Mejor eps: 0.01 con Silhouette Score: 0.9921998429924868\n"
     ]
    },
    {
     "name": "stderr",
     "output_type": "stream",
     "text": [
      "Descargando imágenes: 100%|██████████| 5045/5045 [00:01<00:00, 4967.07img/s]\n",
      "Generando embeddings: 100%|██████████| 5045/5045 [03:36<00:00, 23.35img/s]\n",
      "Buscando mejor eps: 100%|██████████| 20/20 [00:08<00:00,  2.25eps/s]\n"
     ]
    },
    {
     "name": "stdout",
     "output_type": "stream",
     "text": [
      "\n",
      "Mejor eps: 0.01 con Silhouette Score: 0.9913269032938729\n"
     ]
    },
    {
     "name": "stderr",
     "output_type": "stream",
     "text": [
      "Descargando imágenes: 100%|██████████| 4957/4957 [00:00<00:00, 4958.00img/s]\n",
      "Generando embeddings: 100%|██████████| 4957/4957 [03:33<00:00, 23.20img/s]\n",
      "Buscando mejor eps: 100%|██████████| 20/20 [00:07<00:00,  2.80eps/s]\n"
     ]
    },
    {
     "name": "stdout",
     "output_type": "stream",
     "text": [
      "\n",
      "Mejor eps: 0.01 con Silhouette Score: 0.9926477445328991\n"
     ]
    }
   ],
   "source": [
    "df_procesado = procesar_datos_pais(lista_paises_ml, pais_index=17)"
   ]
  },
  {
   "cell_type": "code",
   "execution_count": 30,
   "metadata": {},
   "outputs": [],
   "source": [
    "def guardar_csv_por_pais(df, output_folder=r\".\\countries_data\\products\", site_id_col=\"site_id\"):\n",
    "    \"\"\"\n",
    "    Guarda un DataFrame en un archivo CSV nombrado con base en el valor único de la columna `site_id`.\n",
    "\n",
    "    Args:\n",
    "        df (pd.DataFrame): DataFrame a exportar.\n",
    "        output_folder (str): Carpeta donde se guardará el archivo CSV (por defecto \"./countries_data/products\").\n",
    "        site_id_col (str): Nombre de la columna que contiene el código del país.\n",
    "\n",
    "    Returns:\n",
    "        str: Ruta del archivo CSV guardado.\n",
    "    \"\"\"\n",
    "\n",
    "\n",
    "    # Obtener valores únicos de la columna site_id\n",
    "    unique_countries = df[site_id_col].dropna().unique()\n",
    "\n",
    "    # Obtener el único país disponible\n",
    "    country = unique_countries[0]\n",
    "\n",
    "    # Crear la carpeta si no existe\n",
    "    os.makedirs(output_folder, exist_ok=True)\n",
    "\n",
    "    # Construir la ruta del archivo\n",
    "    file_path = os.path.join(output_folder, f\"{country}_products_clustered.csv\")\n",
    "\n",
    "    # Guardar DataFrame en CSV\n",
    "    df.to_csv(file_path, index=False)\n",
    "\n",
    "    print(f\"Archivo guardado en: {file_path}\")\n",
    "    return file_path\n"
   ]
  },
  {
   "cell_type": "code",
   "execution_count": 31,
   "metadata": {},
   "outputs": [
    {
     "name": "stdout",
     "output_type": "stream",
     "text": [
      "Archivo guardado en: .\\countries_data\\products\\MCO_products_clustered.csv\n"
     ]
    },
    {
     "data": {
      "text/plain": [
       "'.\\\\countries_data\\\\products\\\\MCO_products_clustered.csv'"
      ]
     },
     "execution_count": 31,
     "metadata": {},
     "output_type": "execute_result"
    }
   ],
   "source": [
    "guardar_csv_por_pais(df = df_procesado)"
   ]
  },
  {
   "cell_type": "code",
   "execution_count": null,
   "metadata": {},
   "outputs": [],
   "source": [
    "!pip freeze > requirements.txt"
   ]
  }
 ],
 "metadata": {
  "kernelspec": {
   "display_name": ".venv",
   "language": "python",
   "name": "python3"
  },
  "language_info": {
   "codemirror_mode": {
    "name": "ipython",
    "version": 3
   },
   "file_extension": ".py",
   "mimetype": "text/x-python",
   "name": "python",
   "nbconvert_exporter": "python",
   "pygments_lexer": "ipython3",
   "version": "3.11.9"
  }
 },
 "nbformat": 4,
 "nbformat_minor": 2
}
